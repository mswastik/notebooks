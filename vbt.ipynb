{
 "cells": [
  {
   "cell_type": "code",
   "execution_count": 36,
   "id": "cea2f833-aff4-47b7-abca-cd170c908d83",
   "metadata": {},
   "outputs": [
    {
     "name": "stdout",
     "output_type": "stream",
     "text": [
      "Loading data from parquet file...\n",
      "\n",
      "Processing AAPL:\n",
      "DataFrame shape: (1006, 6)\n",
      "Column names: ['Close', 'High', 'Low', 'Volume', 'Open', 'Adj Close']\n",
      "Array shapes:\n",
      "Close: (1006,)\n",
      "High: (1006,)\n",
      "Low: (1006,)\n",
      "Volume: (1006,)\n",
      "All indicators calculated successfully for AAPL\n",
      "\n",
      "Processing MSFT:\n",
      "DataFrame shape: (1006, 6)\n",
      "Column names: ['Close', 'High', 'Low', 'Volume', 'Open', 'Adj Close']\n",
      "Array shapes:\n",
      "Close: (1006,)\n",
      "High: (1006,)\n",
      "Low: (1006,)\n",
      "Volume: (1006,)\n",
      "All indicators calculated successfully for MSFT\n",
      "\n",
      "Processing GOOGL:\n",
      "DataFrame shape: (1006, 6)\n",
      "Column names: ['Close', 'High', 'Low', 'Volume', 'Open', 'Adj Close']\n",
      "Array shapes:\n",
      "Close: (1006,)\n",
      "High: (1006,)\n",
      "Low: (1006,)\n",
      "Volume: (1006,)\n",
      "All indicators calculated successfully for GOOGL\n",
      "price\n",
      "[ 75.08750153  74.35749817  74.94999695 ... 193.1499939  193.58000183\n",
      " 192.52999878]\n",
      "entry\n",
      "(array([False, False, False, ..., False, False, False]), array([False, False, False, ..., False, False, False]))\n",
      "exit\n",
      "(array([False, False, False, ..., False, False, False]), array([False, False, False, ..., False, False, False]))\n",
      "price\n",
      "[160.61999512 158.61999512 159.02999878 ... 374.07000732 375.27999878\n",
      " 376.04000854]\n",
      "entry\n",
      "(array([False, False, False, ..., False, False, False]), array([False, False, False, ..., False, False, False]))\n",
      "exit\n",
      "(array([False, False, False, ..., False, False, False]), array([False, False, False, ..., False, False, False]))\n",
      "price\n",
      "[ 68.43399811  68.0759964   69.89050293 ... 140.36999512 140.22999573\n",
      " 139.69000244]\n",
      "entry\n",
      "(array([False, False, False, ..., False, False, False]), array([False, False, False, ..., False, False, False]))\n",
      "exit\n",
      "(array([False, False, False, ..., False, False, False]), array([False, False, False, ..., False, False, False]))\n",
      "\n",
      "Backtest Results Summary:\n",
      "                                             total_return  \\\n",
      "symbol                                                      \n",
      "AAPL    0       0.0\n",
      "1       0.0\n",
      "2       0.0\n",
      "3       0....   \n",
      "MSFT    0       0.0\n",
      "1       0.0\n",
      "2       0.0\n",
      "3       0....   \n",
      "GOOGL   0       0.0\n",
      "1       0.0\n",
      "2       0.0\n",
      "3       0....   \n",
      "\n",
      "                                             sharpe_ratio  \\\n",
      "symbol                                                      \n",
      "AAPL    0       inf\n",
      "1       inf\n",
      "2       inf\n",
      "3       in...   \n",
      "MSFT    0       inf\n",
      "1       inf\n",
      "2       inf\n",
      "3       in...   \n",
      "GOOGL   0       inf\n",
      "1       inf\n",
      "2       inf\n",
      "3       in...   \n",
      "\n",
      "                                             max_drawdown  \\\n",
      "symbol                                                      \n",
      "AAPL    0       0.0\n",
      "1       0.0\n",
      "2       0.0\n",
      "3       0....   \n",
      "MSFT    0       0.0\n",
      "1       0.0\n",
      "2       0.0\n",
      "3       0....   \n",
      "GOOGL   0       0.0\n",
      "1       0.0\n",
      "2       0.0\n",
      "3       0....   \n",
      "\n",
      "                                                 win_rate  \\\n",
      "symbol                                                      \n",
      "AAPL    0      NaN\n",
      "1      NaN\n",
      "2      NaN\n",
      "3      NaN\n",
      "4 ...   \n",
      "MSFT    0      NaN\n",
      "1      NaN\n",
      "2      NaN\n",
      "3      NaN\n",
      "4 ...   \n",
      "GOOGL   0      NaN\n",
      "1      NaN\n",
      "2      NaN\n",
      "3      NaN\n",
      "4 ...   \n",
      "\n",
      "                                            profit_factor  \n",
      "symbol                                                     \n",
      "AAPL    0      NaN\n",
      "1      NaN\n",
      "2      NaN\n",
      "3      NaN\n",
      "4 ...  \n",
      "MSFT    0      NaN\n",
      "1      NaN\n",
      "2      NaN\n",
      "3      NaN\n",
      "4 ...  \n",
      "GOOGL   0      NaN\n",
      "1      NaN\n",
      "2      NaN\n",
      "3      NaN\n",
      "4 ...  \n"
     ]
    },
    {
     "data": {
      "application/vnd.plotly.v1+json": {
       "config": {
        "plotlyServerURL": "https://plot.ly"
       },
       "data": [
        {
         "legendgroup": "0",
         "line": {
          "color": "#1f77b4"
         },
         "name": "Close",
         "showlegend": true,
         "type": "scatter",
         "uid": "583f8215-4b22-428e-bebd-9a1730909bca",
         "x": [
          0,
          1
         ],
         "xaxis": "x",
         "y": [
          75.0875015258789,
          75.0875015258789
         ],
         "yaxis": "y"
        },
        {
         "legendgroup": "1",
         "line": {
          "color": "#7f7f7f"
         },
         "name": "Benchmark",
         "showlegend": true,
         "type": "scatter",
         "uid": "fbf4aadf-4334-4bc2-9293-a43f7e6a476a",
         "x": [
          0,
          1
         ],
         "xaxis": "x3",
         "y": [
          1,
          1
         ],
         "yaxis": "y3"
        },
        {
         "legendgroup": "2",
         "line": {
          "color": "#9467bd"
         },
         "name": "Value",
         "showlegend": true,
         "type": "scatter",
         "uid": "c4011dab-69f1-4ed5-8288-8a86e12168a8",
         "x": [
          0,
          1
         ],
         "xaxis": "x3",
         "y": [
          1,
          1
         ],
         "yaxis": "y3"
        },
        {
         "hoverinfo": "skip",
         "legendgroup": "3",
         "line": {
          "color": "rgba(0, 0, 0, 0)",
          "width": 0
         },
         "opacity": 0,
         "showlegend": false,
         "type": "scatter",
         "uid": "92b87af9-0337-4533-8911-a65e84526b61",
         "x": [
          0,
          1
         ],
         "xaxis": "x3",
         "y": [
          1,
          1
         ],
         "yaxis": "y3"
        }
       ],
       "layout": {
        "annotations": [
         {
          "font": {
           "size": 16
          },
          "showarrow": false,
          "text": "Orders",
          "x": 0.5,
          "xanchor": "center",
          "xref": "paper",
          "y": 1,
          "yanchor": "bottom",
          "yref": "paper"
         },
         {
          "font": {
           "size": 16
          },
          "showarrow": false,
          "text": "Trade PnL",
          "x": 0.5,
          "xanchor": "center",
          "xref": "paper",
          "y": 0.6527777777777777,
          "yanchor": "bottom",
          "yref": "paper"
         },
         {
          "font": {
           "size": 16
          },
          "showarrow": false,
          "text": "Cumulative Returns",
          "x": 0.5,
          "xanchor": "center",
          "xref": "paper",
          "y": 0.3055555555555555,
          "yanchor": "bottom",
          "yref": "paper"
         }
        ],
        "height": 960,
        "legend": {
         "orientation": "h",
         "traceorder": "normal",
         "x": 1,
         "xanchor": "right",
         "y": 1.0416666666666667,
         "yanchor": "bottom"
        },
        "margin": {
         "b": 30,
         "l": 30,
         "r": 30,
         "t": 30
        },
        "shapes": [
         {
          "line": {
           "color": "gray",
           "dash": "dash"
          },
          "type": "line",
          "x0": 0,
          "x1": 1,
          "xref": "paper",
          "y0": 0,
          "y1": 0,
          "yref": "y2"
         },
         {
          "line": {
           "color": "gray",
           "dash": "dash"
          },
          "type": "line",
          "x0": 0,
          "x1": 1,
          "xref": "paper",
          "y0": 1,
          "y1": 1,
          "yref": "y3"
         }
        ],
        "showlegend": true,
        "template": {
         "data": {
          "bar": [
           {
            "error_x": {
             "color": "#2a3f5f"
            },
            "error_y": {
             "color": "#2a3f5f"
            },
            "marker": {
             "line": {
              "color": "#E5ECF6",
              "width": 0.5
             }
            },
            "type": "bar"
           }
          ],
          "barpolar": [
           {
            "marker": {
             "line": {
              "color": "#E5ECF6",
              "width": 0.5
             }
            },
            "type": "barpolar"
           }
          ],
          "carpet": [
           {
            "aaxis": {
             "endlinecolor": "#2a3f5f",
             "gridcolor": "white",
             "linecolor": "white",
             "minorgridcolor": "white",
             "startlinecolor": "#2a3f5f"
            },
            "baxis": {
             "endlinecolor": "#2a3f5f",
             "gridcolor": "white",
             "linecolor": "white",
             "minorgridcolor": "white",
             "startlinecolor": "#2a3f5f"
            },
            "type": "carpet"
           }
          ],
          "choropleth": [
           {
            "colorbar": {
             "outlinewidth": 0,
             "ticks": ""
            },
            "type": "choropleth"
           }
          ],
          "contour": [
           {
            "colorbar": {
             "outlinewidth": 0,
             "ticks": ""
            },
            "colorscale": [
             [
              0,
              "#0d0887"
             ],
             [
              0.1111111111111111,
              "#46039f"
             ],
             [
              0.2222222222222222,
              "#7201a8"
             ],
             [
              0.3333333333333333,
              "#9c179e"
             ],
             [
              0.4444444444444444,
              "#bd3786"
             ],
             [
              0.5555555555555556,
              "#d8576b"
             ],
             [
              0.6666666666666666,
              "#ed7953"
             ],
             [
              0.7777777777777778,
              "#fb9f3a"
             ],
             [
              0.8888888888888888,
              "#fdca26"
             ],
             [
              1,
              "#f0f921"
             ]
            ],
            "type": "contour"
           }
          ],
          "contourcarpet": [
           {
            "colorbar": {
             "outlinewidth": 0,
             "ticks": ""
            },
            "type": "contourcarpet"
           }
          ],
          "heatmap": [
           {
            "colorbar": {
             "outlinewidth": 0,
             "ticks": ""
            },
            "colorscale": [
             [
              0,
              "#0d0887"
             ],
             [
              0.1111111111111111,
              "#46039f"
             ],
             [
              0.2222222222222222,
              "#7201a8"
             ],
             [
              0.3333333333333333,
              "#9c179e"
             ],
             [
              0.4444444444444444,
              "#bd3786"
             ],
             [
              0.5555555555555556,
              "#d8576b"
             ],
             [
              0.6666666666666666,
              "#ed7953"
             ],
             [
              0.7777777777777778,
              "#fb9f3a"
             ],
             [
              0.8888888888888888,
              "#fdca26"
             ],
             [
              1,
              "#f0f921"
             ]
            ],
            "type": "heatmap"
           }
          ],
          "heatmapgl": [
           {
            "colorbar": {
             "outlinewidth": 0,
             "ticks": ""
            },
            "colorscale": [
             [
              0,
              "#0d0887"
             ],
             [
              0.1111111111111111,
              "#46039f"
             ],
             [
              0.2222222222222222,
              "#7201a8"
             ],
             [
              0.3333333333333333,
              "#9c179e"
             ],
             [
              0.4444444444444444,
              "#bd3786"
             ],
             [
              0.5555555555555556,
              "#d8576b"
             ],
             [
              0.6666666666666666,
              "#ed7953"
             ],
             [
              0.7777777777777778,
              "#fb9f3a"
             ],
             [
              0.8888888888888888,
              "#fdca26"
             ],
             [
              1,
              "#f0f921"
             ]
            ],
            "type": "heatmapgl"
           }
          ],
          "histogram": [
           {
            "marker": {
             "colorbar": {
              "outlinewidth": 0,
              "ticks": ""
             }
            },
            "type": "histogram"
           }
          ],
          "histogram2d": [
           {
            "colorbar": {
             "outlinewidth": 0,
             "ticks": ""
            },
            "colorscale": [
             [
              0,
              "#0d0887"
             ],
             [
              0.1111111111111111,
              "#46039f"
             ],
             [
              0.2222222222222222,
              "#7201a8"
             ],
             [
              0.3333333333333333,
              "#9c179e"
             ],
             [
              0.4444444444444444,
              "#bd3786"
             ],
             [
              0.5555555555555556,
              "#d8576b"
             ],
             [
              0.6666666666666666,
              "#ed7953"
             ],
             [
              0.7777777777777778,
              "#fb9f3a"
             ],
             [
              0.8888888888888888,
              "#fdca26"
             ],
             [
              1,
              "#f0f921"
             ]
            ],
            "type": "histogram2d"
           }
          ],
          "histogram2dcontour": [
           {
            "colorbar": {
             "outlinewidth": 0,
             "ticks": ""
            },
            "colorscale": [
             [
              0,
              "#0d0887"
             ],
             [
              0.1111111111111111,
              "#46039f"
             ],
             [
              0.2222222222222222,
              "#7201a8"
             ],
             [
              0.3333333333333333,
              "#9c179e"
             ],
             [
              0.4444444444444444,
              "#bd3786"
             ],
             [
              0.5555555555555556,
              "#d8576b"
             ],
             [
              0.6666666666666666,
              "#ed7953"
             ],
             [
              0.7777777777777778,
              "#fb9f3a"
             ],
             [
              0.8888888888888888,
              "#fdca26"
             ],
             [
              1,
              "#f0f921"
             ]
            ],
            "type": "histogram2dcontour"
           }
          ],
          "mesh3d": [
           {
            "colorbar": {
             "outlinewidth": 0,
             "ticks": ""
            },
            "type": "mesh3d"
           }
          ],
          "parcoords": [
           {
            "line": {
             "colorbar": {
              "outlinewidth": 0,
              "ticks": ""
             }
            },
            "type": "parcoords"
           }
          ],
          "pie": [
           {
            "automargin": true,
            "type": "pie"
           }
          ],
          "scatter": [
           {
            "marker": {
             "colorbar": {
              "outlinewidth": 0,
              "ticks": ""
             }
            },
            "type": "scatter"
           }
          ],
          "scatter3d": [
           {
            "line": {
             "colorbar": {
              "outlinewidth": 0,
              "ticks": ""
             }
            },
            "marker": {
             "colorbar": {
              "outlinewidth": 0,
              "ticks": ""
             }
            },
            "type": "scatter3d"
           }
          ],
          "scattercarpet": [
           {
            "marker": {
             "colorbar": {
              "outlinewidth": 0,
              "ticks": ""
             }
            },
            "type": "scattercarpet"
           }
          ],
          "scattergeo": [
           {
            "marker": {
             "colorbar": {
              "outlinewidth": 0,
              "ticks": ""
             }
            },
            "type": "scattergeo"
           }
          ],
          "scattergl": [
           {
            "marker": {
             "colorbar": {
              "outlinewidth": 0,
              "ticks": ""
             }
            },
            "type": "scattergl"
           }
          ],
          "scattermapbox": [
           {
            "marker": {
             "colorbar": {
              "outlinewidth": 0,
              "ticks": ""
             }
            },
            "type": "scattermapbox"
           }
          ],
          "scatterpolar": [
           {
            "marker": {
             "colorbar": {
              "outlinewidth": 0,
              "ticks": ""
             }
            },
            "type": "scatterpolar"
           }
          ],
          "scatterpolargl": [
           {
            "marker": {
             "colorbar": {
              "outlinewidth": 0,
              "ticks": ""
             }
            },
            "type": "scatterpolargl"
           }
          ],
          "scatterternary": [
           {
            "marker": {
             "colorbar": {
              "outlinewidth": 0,
              "ticks": ""
             }
            },
            "type": "scatterternary"
           }
          ],
          "surface": [
           {
            "colorbar": {
             "outlinewidth": 0,
             "ticks": ""
            },
            "colorscale": [
             [
              0,
              "#0d0887"
             ],
             [
              0.1111111111111111,
              "#46039f"
             ],
             [
              0.2222222222222222,
              "#7201a8"
             ],
             [
              0.3333333333333333,
              "#9c179e"
             ],
             [
              0.4444444444444444,
              "#bd3786"
             ],
             [
              0.5555555555555556,
              "#d8576b"
             ],
             [
              0.6666666666666666,
              "#ed7953"
             ],
             [
              0.7777777777777778,
              "#fb9f3a"
             ],
             [
              0.8888888888888888,
              "#fdca26"
             ],
             [
              1,
              "#f0f921"
             ]
            ],
            "type": "surface"
           }
          ],
          "table": [
           {
            "cells": {
             "fill": {
              "color": "#EBF0F8"
             },
             "line": {
              "color": "white"
             }
            },
            "header": {
             "fill": {
              "color": "#C8D4E3"
             },
             "line": {
              "color": "white"
             }
            },
            "type": "table"
           }
          ]
         },
         "layout": {
          "annotationdefaults": {
           "arrowcolor": "#2a3f5f",
           "arrowhead": 0,
           "arrowwidth": 1
          },
          "coloraxis": {
           "colorbar": {
            "outlinewidth": 0,
            "ticks": ""
           }
          },
          "colorscale": {
           "diverging": [
            [
             0,
             "#8e0152"
            ],
            [
             0.1,
             "#c51b7d"
            ],
            [
             0.2,
             "#de77ae"
            ],
            [
             0.3,
             "#f1b6da"
            ],
            [
             0.4,
             "#fde0ef"
            ],
            [
             0.5,
             "#f7f7f7"
            ],
            [
             0.6,
             "#e6f5d0"
            ],
            [
             0.7,
             "#b8e186"
            ],
            [
             0.8,
             "#7fbc41"
            ],
            [
             0.9,
             "#4d9221"
            ],
            [
             1,
             "#276419"
            ]
           ],
           "sequential": [
            [
             0,
             "#0d0887"
            ],
            [
             0.1111111111111111,
             "#46039f"
            ],
            [
             0.2222222222222222,
             "#7201a8"
            ],
            [
             0.3333333333333333,
             "#9c179e"
            ],
            [
             0.4444444444444444,
             "#bd3786"
            ],
            [
             0.5555555555555556,
             "#d8576b"
            ],
            [
             0.6666666666666666,
             "#ed7953"
            ],
            [
             0.7777777777777778,
             "#fb9f3a"
            ],
            [
             0.8888888888888888,
             "#fdca26"
            ],
            [
             1,
             "#f0f921"
            ]
           ],
           "sequentialminus": [
            [
             0,
             "#0d0887"
            ],
            [
             0.1111111111111111,
             "#46039f"
            ],
            [
             0.2222222222222222,
             "#7201a8"
            ],
            [
             0.3333333333333333,
             "#9c179e"
            ],
            [
             0.4444444444444444,
             "#bd3786"
            ],
            [
             0.5555555555555556,
             "#d8576b"
            ],
            [
             0.6666666666666666,
             "#ed7953"
            ],
            [
             0.7777777777777778,
             "#fb9f3a"
            ],
            [
             0.8888888888888888,
             "#fdca26"
            ],
            [
             1,
             "#f0f921"
            ]
           ]
          },
          "colorway": [
           "#1f77b4",
           "#ff7f0e",
           "#2ca02c",
           "#dc3912",
           "#9467bd",
           "#8c564b",
           "#e377c2",
           "#7f7f7f",
           "#bcbd22",
           "#17becf"
          ],
          "font": {
           "color": "#2a3f5f"
          },
          "geo": {
           "bgcolor": "white",
           "lakecolor": "white",
           "landcolor": "#E5ECF6",
           "showlakes": true,
           "showland": true,
           "subunitcolor": "white"
          },
          "hoverlabel": {
           "align": "left"
          },
          "hovermode": "closest",
          "mapbox": {
           "style": "light"
          },
          "paper_bgcolor": "white",
          "plot_bgcolor": "#E5ECF6",
          "polar": {
           "angularaxis": {
            "gridcolor": "white",
            "linecolor": "white",
            "ticks": ""
           },
           "bgcolor": "#E5ECF6",
           "radialaxis": {
            "gridcolor": "white",
            "linecolor": "white",
            "ticks": ""
           }
          },
          "scene": {
           "xaxis": {
            "backgroundcolor": "#E5ECF6",
            "gridcolor": "white",
            "gridwidth": 2,
            "linecolor": "white",
            "showbackground": true,
            "ticks": "",
            "zerolinecolor": "white"
           },
           "yaxis": {
            "backgroundcolor": "#E5ECF6",
            "gridcolor": "white",
            "gridwidth": 2,
            "linecolor": "white",
            "showbackground": true,
            "ticks": "",
            "zerolinecolor": "white"
           },
           "zaxis": {
            "backgroundcolor": "#E5ECF6",
            "gridcolor": "white",
            "gridwidth": 2,
            "linecolor": "white",
            "showbackground": true,
            "ticks": "",
            "zerolinecolor": "white"
           }
          },
          "shapedefaults": {
           "line": {
            "color": "#2a3f5f"
           }
          },
          "ternary": {
           "aaxis": {
            "gridcolor": "white",
            "linecolor": "white",
            "ticks": ""
           },
           "baxis": {
            "gridcolor": "white",
            "linecolor": "white",
            "ticks": ""
           },
           "bgcolor": "#E5ECF6",
           "caxis": {
            "gridcolor": "white",
            "linecolor": "white",
            "ticks": ""
           }
          },
          "title": {
           "x": 0.05
          },
          "xaxis": {
           "automargin": true,
           "gridcolor": "white",
           "linecolor": "white",
           "ticks": "",
           "title": {
            "standoff": 15
           },
           "zerolinecolor": "white",
           "zerolinewidth": 2
          },
          "yaxis": {
           "automargin": true,
           "gridcolor": "white",
           "linecolor": "white",
           "ticks": "",
           "title": {
            "standoff": 15
           },
           "zerolinecolor": "white",
           "zerolinewidth": 2
          }
         }
        },
        "width": 750,
        "xaxis": {
         "anchor": "y",
         "domain": [
          0,
          1
         ],
         "matches": "x3",
         "showticklabels": false
        },
        "xaxis2": {
         "anchor": "y2",
         "domain": [
          0,
          1
         ],
         "matches": "x3",
         "showticklabels": false
        },
        "xaxis3": {
         "anchor": "y3",
         "domain": [
          0,
          1
         ],
         "title": {
          "text": "Index"
         }
        },
        "yaxis": {
         "anchor": "x",
         "domain": [
          0.6944444444444444,
          1
         ],
         "title": {
          "text": "Price"
         }
        },
        "yaxis2": {
         "anchor": "x2",
         "domain": [
          0.3472222222222222,
          0.6527777777777777
         ],
         "tickformat": ".2%",
         "title": {
          "text": "Trade PnL"
         }
        },
        "yaxis3": {
         "anchor": "x3",
         "domain": [
          0,
          0.3055555555555555
         ],
         "title": {
          "text": "Cumulative returns"
         }
        }
       }
      },
      "image/png": "[encoded data removed]",
      "text/html": [
       "<div>                            <div id=\"586a75f3-f804-46e8-aa4c-b7296423931f\" class=\"plotly-graph-div\" style=\"height:960px; width:750px;\"></div>            <script type=\"text/javascript\">                require([\"plotly\"], function(Plotly) {                    window.PLOTLYENV=window.PLOTLYENV || {};                                    if (document.getElementById(\"586a75f3-f804-46e8-aa4c-b7296423931f\")) {                    Plotly.newPlot(                        \"586a75f3-f804-46e8-aa4c-b7296423931f\",                        [{\"line\":{\"color\":\"#1f77b4\"},\"name\":\"Close\",\"showlegend\":true,\"x\":[0,1],\"type\":\"scatter\",\"uid\":\"583f8215-4b22-428e-bebd-9a1730909bca\",\"xaxis\":\"x\",\"yaxis\":\"y\",\"y\":[75.0875015258789,75.0875015258789],\"legendgroup\":\"0\"},{\"line\":{\"color\":\"#7f7f7f\"},\"name\":\"Benchmark\",\"showlegend\":true,\"x\":[0,1],\"type\":\"scatter\",\"uid\":\"fbf4aadf-4334-4bc2-9293-a43f7e6a476a\",\"xaxis\":\"x3\",\"yaxis\":\"y3\",\"y\":[1.0,1.0],\"legendgroup\":\"1\"},{\"line\":{\"color\":\"#9467bd\"},\"name\":\"Value\",\"showlegend\":true,\"x\":[0,1],\"type\":\"scatter\",\"uid\":\"c4011dab-69f1-4ed5-8288-8a86e12168a8\",\"xaxis\":\"x3\",\"yaxis\":\"y3\",\"y\":[1.0,1.0],\"legendgroup\":\"2\"},{\"hoverinfo\":\"skip\",\"line\":{\"color\":\"rgba(0, 0, 0, 0)\",\"width\":0},\"opacity\":0.0,\"showlegend\":false,\"x\":[0,1],\"type\":\"scatter\",\"uid\":\"92b87af9-0337-4533-8911-a65e84526b61\",\"xaxis\":\"x3\",\"yaxis\":\"y3\",\"y\":[1,1],\"legendgroup\":\"3\"}],                        {\"annotations\":[{\"font\":{\"size\":16},\"showarrow\":false,\"text\":\"Orders\",\"x\":0.5,\"xanchor\":\"center\",\"xref\":\"paper\",\"y\":1.0,\"yanchor\":\"bottom\",\"yref\":\"paper\"},{\"font\":{\"size\":16},\"showarrow\":false,\"text\":\"Trade PnL\",\"x\":0.5,\"xanchor\":\"center\",\"xref\":\"paper\",\"y\":0.6527777777777777,\"yanchor\":\"bottom\",\"yref\":\"paper\"},{\"font\":{\"size\":16},\"showarrow\":false,\"text\":\"Cumulative Returns\",\"x\":0.5,\"xanchor\":\"center\",\"xref\":\"paper\",\"y\":0.3055555555555555,\"yanchor\":\"bottom\",\"yref\":\"paper\"}],\"template\":{\"data\":{\"barpolar\":[{\"marker\":{\"line\":{\"color\":\"#E5ECF6\",\"width\":0.5}},\"type\":\"barpolar\"}],\"bar\":[{\"error_x\":{\"color\":\"#2a3f5f\"},\"error_y\":{\"color\":\"#2a3f5f\"},\"marker\":{\"line\":{\"color\":\"#E5ECF6\",\"width\":0.5}},\"type\":\"bar\"}],\"carpet\":[{\"aaxis\":{\"endlinecolor\":\"#2a3f5f\",\"gridcolor\":\"white\",\"linecolor\":\"white\",\"minorgridcolor\":\"white\",\"startlinecolor\":\"#2a3f5f\"},\"baxis\":{\"endlinecolor\":\"#2a3f5f\",\"gridcolor\":\"white\",\"linecolor\":\"white\",\"minorgridcolor\":\"white\",\"startlinecolor\":\"#2a3f5f\"},\"type\":\"carpet\"}],\"choropleth\":[{\"colorbar\":{\"outlinewidth\":0,\"ticks\":\"\"},\"type\":\"choropleth\"}],\"contourcarpet\":[{\"colorbar\":{\"outlinewidth\":0,\"ticks\":\"\"},\"type\":\"contourcarpet\"}],\"contour\":[{\"colorbar\":{\"outlinewidth\":0,\"ticks\":\"\"},\"colorscale\":[[0.0,\"#0d0887\"],[0.1111111111111111,\"#46039f\"],[0.2222222222222222,\"#7201a8\"],[0.3333333333333333,\"#9c179e\"],[0.4444444444444444,\"#bd3786\"],[0.5555555555555556,\"#d8576b\"],[0.6666666666666666,\"#ed7953\"],[0.7777777777777778,\"#fb9f3a\"],[0.8888888888888888,\"#fdca26\"],[1.0,\"#f0f921\"]],\"type\":\"contour\"}],\"heatmapgl\":[{\"colorbar\":{\"outlinewidth\":0,\"ticks\":\"\"},\"colorscale\":[[0.0,\"#0d0887\"],[0.1111111111111111,\"#46039f\"],[0.2222222222222222,\"#7201a8\"],[0.3333333333333333,\"#9c179e\"],[0.4444444444444444,\"#bd3786\"],[0.5555555555555556,\"#d8576b\"],[0.6666666666666666,\"#ed7953\"],[0.7777777777777778,\"#fb9f3a\"],[0.8888888888888888,\"#fdca26\"],[1.0,\"#f0f921\"]],\"type\":\"heatmapgl\"}],\"heatmap\":[{\"colorbar\":{\"outlinewidth\":0,\"ticks\":\"\"},\"colorscale\":[[0.0,\"#0d0887\"],[0.1111111111111111,\"#46039f\"],[0.2222222222222222,\"#7201a8\"],[0.3333333333333333,\"#9c179e\"],[0.4444444444444444,\"#bd3786\"],[0.5555555555555556,\"#d8576b\"],[0.6666666666666666,\"#ed7953\"],[0.7777777777777778,\"#fb9f3a\"],[0.8888888888888888,\"#fdca26\"],[1.0,\"#f0f921\"]],\"type\":\"heatmap\"}],\"histogram2dcontour\":[{\"colorbar\":{\"outlinewidth\":0,\"ticks\":\"\"},\"colorscale\":[[0.0,\"#0d0887\"],[0.1111111111111111,\"#46039f\"],[0.2222222222222222,\"#7201a8\"],[0.3333333333333333,\"#9c179e\"],[0.4444444444444444,\"#bd3786\"],[0.5555555555555556,\"#d8576b\"],[0.6666666666666666,\"#ed7953\"],[0.7777777777777778,\"#fb9f3a\"],[0.8888888888888888,\"#fdca26\"],[1.0,\"#f0f921\"]],\"type\":\"histogram2dcontour\"}],\"histogram2d\":[{\"colorbar\":{\"outlinewidth\":0,\"ticks\":\"\"},\"colorscale\":[[0.0,\"#0d0887\"],[0.1111111111111111,\"#46039f\"],[0.2222222222222222,\"#7201a8\"],[0.3333333333333333,\"#9c179e\"],[0.4444444444444444,\"#bd3786\"],[0.5555555555555556,\"#d8576b\"],[0.6666666666666666,\"#ed7953\"],[0.7777777777777778,\"#fb9f3a\"],[0.8888888888888888,\"#fdca26\"],[1.0,\"#f0f921\"]],\"type\":\"histogram2d\"}],\"histogram\":[{\"marker\":{\"colorbar\":{\"outlinewidth\":0,\"ticks\":\"\"}},\"type\":\"histogram\"}],\"mesh3d\":[{\"colorbar\":{\"outlinewidth\":0,\"ticks\":\"\"},\"type\":\"mesh3d\"}],\"parcoords\":[{\"line\":{\"colorbar\":{\"outlinewidth\":0,\"ticks\":\"\"}},\"type\":\"parcoords\"}],\"pie\":[{\"automargin\":true,\"type\":\"pie\"}],\"scatter3d\":[{\"line\":{\"colorbar\":{\"outlinewidth\":0,\"ticks\":\"\"}},\"marker\":{\"colorbar\":{\"outlinewidth\":0,\"ticks\":\"\"}},\"type\":\"scatter3d\"}],\"scattercarpet\":[{\"marker\":{\"colorbar\":{\"outlinewidth\":0,\"ticks\":\"\"}},\"type\":\"scattercarpet\"}],\"scattergeo\":[{\"marker\":{\"colorbar\":{\"outlinewidth\":0,\"ticks\":\"\"}},\"type\":\"scattergeo\"}],\"scattergl\":[{\"marker\":{\"colorbar\":{\"outlinewidth\":0,\"ticks\":\"\"}},\"type\":\"scattergl\"}],\"scattermapbox\":[{\"marker\":{\"colorbar\":{\"outlinewidth\":0,\"ticks\":\"\"}},\"type\":\"scattermapbox\"}],\"scatterpolargl\":[{\"marker\":{\"colorbar\":{\"outlinewidth\":0,\"ticks\":\"\"}},\"type\":\"scatterpolargl\"}],\"scatterpolar\":[{\"marker\":{\"colorbar\":{\"outlinewidth\":0,\"ticks\":\"\"}},\"type\":\"scatterpolar\"}],\"scatter\":[{\"marker\":{\"colorbar\":{\"outlinewidth\":0,\"ticks\":\"\"}},\"type\":\"scatter\"}],\"scatterternary\":[{\"marker\":{\"colorbar\":{\"outlinewidth\":0,\"ticks\":\"\"}},\"type\":\"scatterternary\"}],\"surface\":[{\"colorbar\":{\"outlinewidth\":0,\"ticks\":\"\"},\"colorscale\":[[0.0,\"#0d0887\"],[0.1111111111111111,\"#46039f\"],[0.2222222222222222,\"#7201a8\"],[0.3333333333333333,\"#9c179e\"],[0.4444444444444444,\"#bd3786\"],[0.5555555555555556,\"#d8576b\"],[0.6666666666666666,\"#ed7953\"],[0.7777777777777778,\"#fb9f3a\"],[0.8888888888888888,\"#fdca26\"],[1.0,\"#f0f921\"]],\"type\":\"surface\"}],\"table\":[{\"cells\":{\"fill\":{\"color\":\"#EBF0F8\"},\"line\":{\"color\":\"white\"}},\"header\":{\"fill\":{\"color\":\"#C8D4E3\"},\"line\":{\"color\":\"white\"}},\"type\":\"table\"}]},\"layout\":{\"annotationdefaults\":{\"arrowcolor\":\"#2a3f5f\",\"arrowhead\":0,\"arrowwidth\":1},\"coloraxis\":{\"colorbar\":{\"outlinewidth\":0,\"ticks\":\"\"}},\"colorscale\":{\"diverging\":[[0,\"#8e0152\"],[0.1,\"#c51b7d\"],[0.2,\"#de77ae\"],[0.3,\"#f1b6da\"],[0.4,\"#fde0ef\"],[0.5,\"#f7f7f7\"],[0.6,\"#e6f5d0\"],[0.7,\"#b8e186\"],[0.8,\"#7fbc41\"],[0.9,\"#4d9221\"],[1,\"#276419\"]],\"sequential\":[[0.0,\"#0d0887\"],[0.1111111111111111,\"#46039f\"],[0.2222222222222222,\"#7201a8\"],[0.3333333333333333,\"#9c179e\"],[0.4444444444444444,\"#bd3786\"],[0.5555555555555556,\"#d8576b\"],[0.6666666666666666,\"#ed7953\"],[0.7777777777777778,\"#fb9f3a\"],[0.8888888888888888,\"#fdca26\"],[1.0,\"#f0f921\"]],\"sequentialminus\":[[0.0,\"#0d0887\"],[0.1111111111111111,\"#46039f\"],[0.2222222222222222,\"#7201a8\"],[0.3333333333333333,\"#9c179e\"],[0.4444444444444444,\"#bd3786\"],[0.5555555555555556,\"#d8576b\"],[0.6666666666666666,\"#ed7953\"],[0.7777777777777778,\"#fb9f3a\"],[0.8888888888888888,\"#fdca26\"],[1.0,\"#f0f921\"]]},\"colorway\":[\"#1f77b4\",\"#ff7f0e\",\"#2ca02c\",\"#dc3912\",\"#9467bd\",\"#8c564b\",\"#e377c2\",\"#7f7f7f\",\"#bcbd22\",\"#17becf\"],\"font\":{\"color\":\"#2a3f5f\"},\"geo\":{\"bgcolor\":\"white\",\"lakecolor\":\"white\",\"landcolor\":\"#E5ECF6\",\"showlakes\":true,\"showland\":true,\"subunitcolor\":\"white\"},\"hoverlabel\":{\"align\":\"left\"},\"hovermode\":\"closest\",\"mapbox\":{\"style\":\"light\"},\"paper_bgcolor\":\"white\",\"plot_bgcolor\":\"#E5ECF6\",\"polar\":{\"angularaxis\":{\"gridcolor\":\"white\",\"linecolor\":\"white\",\"ticks\":\"\"},\"bgcolor\":\"#E5ECF6\",\"radialaxis\":{\"gridcolor\":\"white\",\"linecolor\":\"white\",\"ticks\":\"\"}},\"scene\":{\"xaxis\":{\"backgroundcolor\":\"#E5ECF6\",\"gridcolor\":\"white\",\"gridwidth\":2,\"linecolor\":\"white\",\"showbackground\":true,\"ticks\":\"\",\"zerolinecolor\":\"white\"},\"yaxis\":{\"backgroundcolor\":\"#E5ECF6\",\"gridcolor\":\"white\",\"gridwidth\":2,\"linecolor\":\"white\",\"showbackground\":true,\"ticks\":\"\",\"zerolinecolor\":\"white\"},\"zaxis\":{\"backgroundcolor\":\"#E5ECF6\",\"gridcolor\":\"white\",\"gridwidth\":2,\"linecolor\":\"white\",\"showbackground\":true,\"ticks\":\"\",\"zerolinecolor\":\"white\"}},\"shapedefaults\":{\"line\":{\"color\":\"#2a3f5f\"}},\"ternary\":{\"aaxis\":{\"gridcolor\":\"white\",\"linecolor\":\"white\",\"ticks\":\"\"},\"baxis\":{\"gridcolor\":\"white\",\"linecolor\":\"white\",\"ticks\":\"\"},\"bgcolor\":\"#E5ECF6\",\"caxis\":{\"gridcolor\":\"white\",\"linecolor\":\"white\",\"ticks\":\"\"}},\"title\":{\"x\":0.05},\"xaxis\":{\"automargin\":true,\"gridcolor\":\"white\",\"linecolor\":\"white\",\"ticks\":\"\",\"title\":{\"standoff\":15},\"zerolinecolor\":\"white\",\"zerolinewidth\":2},\"yaxis\":{\"automargin\":true,\"gridcolor\":\"white\",\"linecolor\":\"white\",\"ticks\":\"\",\"title\":{\"standoff\":15},\"zerolinecolor\":\"white\",\"zerolinewidth\":2}}},\"xaxis\":{\"anchor\":\"y\",\"domain\":[0.0,1.0],\"matches\":\"x3\",\"showticklabels\":false},\"yaxis\":{\"anchor\":\"x\",\"domain\":[0.6944444444444444,1.0],\"title\":{\"text\":\"Price\"}},\"xaxis2\":{\"anchor\":\"y2\",\"domain\":[0.0,1.0],\"matches\":\"x3\",\"showticklabels\":false},\"yaxis2\":{\"anchor\":\"x2\",\"domain\":[0.3472222222222222,0.6527777777777777],\"tickformat\":\".2%\",\"title\":{\"text\":\"Trade PnL\"}},\"xaxis3\":{\"anchor\":\"y3\",\"domain\":[0.0,1.0],\"title\":{\"text\":\"Index\"}},\"yaxis3\":{\"anchor\":\"x3\",\"domain\":[0.0,0.3055555555555555],\"title\":{\"text\":\"Cumulative returns\"}},\"margin\":{\"t\":30,\"b\":30,\"l\":30,\"r\":30},\"legend\":{\"orientation\":\"h\",\"yanchor\":\"bottom\",\"y\":1.0416666666666667,\"xanchor\":\"right\",\"x\":1,\"traceorder\":\"normal\"},\"width\":750,\"height\":960,\"showlegend\":true,\"shapes\":[{\"line\":{\"color\":\"gray\",\"dash\":\"dash\"},\"type\":\"line\",\"x0\":0.0,\"x1\":1.0,\"xref\":\"paper\",\"y0\":0,\"y1\":0,\"yref\":\"y2\"},{\"line\":{\"color\":\"gray\",\"dash\":\"dash\"},\"type\":\"line\",\"x0\":0.0,\"x1\":1.0,\"xref\":\"paper\",\"y0\":1,\"y1\":1,\"yref\":\"y3\"}]},                        {\"responsive\": true}                    ).then(function(){\n",
       "                            \n",
       "var gd = document.getElementById('586a75f3-f804-46e8-aa4c-b7296423931f');\n",
       "var x = new MutationObserver(function (mutations, observer) {{\n",
       "        var display = window.getComputedStyle(gd).display;\n",
       "        if (!display || display === 'none') {{\n",
       "            console.log([gd, 'removed!']);\n",
       "            Plotly.purge(gd);\n",
       "            observer.disconnect();\n",
       "        }}\n",
       "}});\n",
       "\n",
       "// Listen for the removal of the full notebook cells\n",
       "var notebookContainer = gd.closest('#notebook-container');\n",
       "if (notebookContainer) {{\n",
       "    x.observe(notebookContainer, {childList: true});\n",
       "}}\n",
       "\n",
       "// Listen for the clearing of the current output cell\n",
       "var outputEl = gd.closest('.output');\n",
       "if (outputEl) {{\n",
       "    x.observe(outputEl, {childList: true});\n",
       "}}\n",
       "\n",
       "                        })                };                });            </script>        </div>"
      ]
     },
     "metadata": {},
     "output_type": "display_data"
    },
    {
     "data": {
      "application/vnd.plotly.v1+json": {
       "config": {
        "plotlyServerURL": "https://plot.ly"
       },
       "data": [
        {
         "legendgroup": "0",
         "line": {
          "color": "#1f77b4"
         },
         "name": "Close",
         "showlegend": true,
         "type": "scatter",
         "uid": "2e0e87de-f068-4ee6-aa8c-83d6d4952c7f",
         "x": [
          0,
          1
         ],
         "xaxis": "x",
         "y": [
          160.6199951171875,
          160.6199951171875
         ],
         "yaxis": "y"
        },
        {
         "legendgroup": "1",
         "line": {
          "color": "#7f7f7f"
         },
         "name": "Benchmark",
         "showlegend": true,
         "type": "scatter",
         "uid": "fb63a5a9-d15e-4a9e-bf22-914d28e2e2fc",
         "x": [
          0,
          1
         ],
         "xaxis": "x3",
         "y": [
          1,
          1
         ],
         "yaxis": "y3"
        },
        {
         "legendgroup": "2",
         "line": {
          "color": "#9467bd"
         },
         "name": "Value",
         "showlegend": true,
         "type": "scatter",
         "uid": "b0189b47-7503-4145-95c3-42cafd9c5206",
         "x": [
          0,
          1
         ],
         "xaxis": "x3",
         "y": [
          1,
          1
         ],
         "yaxis": "y3"
        },
        {
         "hoverinfo": "skip",
         "legendgroup": "3",
         "line": {
          "color": "rgba(0, 0, 0, 0)",
          "width": 0
         },
         "opacity": 0,
         "showlegend": false,
         "type": "scatter",
         "uid": "576af391-e671-4d64-a6ee-40473ae5fd08",
         "x": [
          0,
          1
         ],
         "xaxis": "x3",
         "y": [
          1,
          1
         ],
         "yaxis": "y3"
        }
       ],
       "layout": {
        "annotations": [
         {
          "font": {
           "size": 16
          },
          "showarrow": false,
          "text": "Orders",
          "x": 0.5,
          "xanchor": "center",
          "xref": "paper",
          "y": 1,
          "yanchor": "bottom",
          "yref": "paper"
         },
         {
          "font": {
           "size": 16
          },
          "showarrow": false,
          "text": "Trade PnL",
          "x": 0.5,
          "xanchor": "center",
          "xref": "paper",
          "y": 0.6527777777777777,
          "yanchor": "bottom",
          "yref": "paper"
         },
         {
          "font": {
           "size": 16
          },
          "showarrow": false,
          "text": "Cumulative Returns",
          "x": 0.5,
          "xanchor": "center",
          "xref": "paper",
          "y": 0.3055555555555555,
          "yanchor": "bottom",
          "yref": "paper"
         }
        ],
        "height": 960,
        "legend": {
         "orientation": "h",
         "traceorder": "normal",
         "x": 1,
         "xanchor": "right",
         "y": 1.0416666666666667,
         "yanchor": "bottom"
        },
        "margin": {
         "b": 30,
         "l": 30,
         "r": 30,
         "t": 30
        },
        "shapes": [
         {
          "line": {
           "color": "gray",
           "dash": "dash"
          },
          "type": "line",
          "x0": 0,
          "x1": 1,
          "xref": "paper",
          "y0": 0,
          "y1": 0,
          "yref": "y2"
         },
         {
          "line": {
           "color": "gray",
           "dash": "dash"
          },
          "type": "line",
          "x0": 0,
          "x1": 1,
          "xref": "paper",
          "y0": 1,
          "y1": 1,
          "yref": "y3"
         }
        ],
        "showlegend": true,
        "template": {
         "data": {
          "bar": [
           {
            "error_x": {
             "color": "#2a3f5f"
            },
            "error_y": {
             "color": "#2a3f5f"
            },
            "marker": {
             "line": {
              "color": "#E5ECF6",
              "width": 0.5
             }
            },
            "type": "bar"
           }
          ],
          "barpolar": [
           {
            "marker": {
             "line": {
              "color": "#E5ECF6",
              "width": 0.5
             }
            },
            "type": "barpolar"
           }
          ],
          "carpet": [
           {
            "aaxis": {
             "endlinecolor": "#2a3f5f",
             "gridcolor": "white",
             "linecolor": "white",
             "minorgridcolor": "white",
             "startlinecolor": "#2a3f5f"
            },
            "baxis": {
             "endlinecolor": "#2a3f5f",
             "gridcolor": "white",
             "linecolor": "white",
             "minorgridcolor": "white",
             "startlinecolor": "#2a3f5f"
            },
            "type": "carpet"
           }
          ],
          "choropleth": [
           {
            "colorbar": {
             "outlinewidth": 0,
             "ticks": ""
            },
            "type": "choropleth"
           }
          ],
          "contour": [
           {
            "colorbar": {
             "outlinewidth": 0,
             "ticks": ""
            },
            "colorscale": [
             [
              0,
              "#0d0887"
             ],
             [
              0.1111111111111111,
              "#46039f"
             ],
             [
              0.2222222222222222,
              "#7201a8"
             ],
             [
              0.3333333333333333,
              "#9c179e"
             ],
             [
              0.4444444444444444,
              "#bd3786"
             ],
             [
              0.5555555555555556,
              "#d8576b"
             ],
             [
              0.6666666666666666,
              "#ed7953"
             ],
             [
              0.7777777777777778,
              "#fb9f3a"
             ],
             [
              0.8888888888888888,
              "#fdca26"
             ],
             [
              1,
              "#f0f921"
             ]
            ],
            "type": "contour"
           }
          ],
          "contourcarpet": [
           {
            "colorbar": {
             "outlinewidth": 0,
             "ticks": ""
            },
            "type": "contourcarpet"
           }
          ],
          "heatmap": [
           {
            "colorbar": {
             "outlinewidth": 0,
             "ticks": ""
            },
            "colorscale": [
             [
              0,
              "#0d0887"
             ],
             [
              0.1111111111111111,
              "#46039f"
             ],
             [
              0.2222222222222222,
              "#7201a8"
             ],
             [
              0.3333333333333333,
              "#9c179e"
             ],
             [
              0.4444444444444444,
              "#bd3786"
             ],
             [
              0.5555555555555556,
              "#d8576b"
             ],
             [
              0.6666666666666666,
              "#ed7953"
             ],
             [
              0.7777777777777778,
              "#fb9f3a"
             ],
             [
              0.8888888888888888,
              "#fdca26"
             ],
             [
              1,
              "#f0f921"
             ]
            ],
            "type": "heatmap"
           }
          ],
          "heatmapgl": [
           {
            "colorbar": {
             "outlinewidth": 0,
             "ticks": ""
            },
            "colorscale": [
             [
              0,
              "#0d0887"
             ],
             [
              0.1111111111111111,
              "#46039f"
             ],
             [
              0.2222222222222222,
              "#7201a8"
             ],
             [
              0.3333333333333333,
              "#9c179e"
             ],
             [
              0.4444444444444444,
              "#bd3786"
             ],
             [
              0.5555555555555556,
              "#d8576b"
             ],
             [
              0.6666666666666666,
              "#ed7953"
             ],
             [
              0.7777777777777778,
              "#fb9f3a"
             ],
             [
              0.8888888888888888,
              "#fdca26"
             ],
             [
              1,
              "#f0f921"
             ]
            ],
            "type": "heatmapgl"
           }
          ],
          "histogram": [
           {
            "marker": {
             "colorbar": {
              "outlinewidth": 0,
              "ticks": ""
             }
            },
            "type": "histogram"
           }
          ],
          "histogram2d": [
           {
            "colorbar": {
             "outlinewidth": 0,
             "ticks": ""
            },
            "colorscale": [
             [
              0,
              "#0d0887"
             ],
             [
              0.1111111111111111,
              "#46039f"
             ],
             [
              0.2222222222222222,
              "#7201a8"
             ],
             [
              0.3333333333333333,
              "#9c179e"
             ],
             [
              0.4444444444444444,
              "#bd3786"
             ],
             [
              0.5555555555555556,
              "#d8576b"
             ],
             [
              0.6666666666666666,
              "#ed7953"
             ],
             [
              0.7777777777777778,
              "#fb9f3a"
             ],
             [
              0.8888888888888888,
              "#fdca26"
             ],
             [
              1,
              "#f0f921"
             ]
            ],
            "type": "histogram2d"
           }
          ],
          "histogram2dcontour": [
           {
            "colorbar": {
             "outlinewidth": 0,
             "ticks": ""
            },
            "colorscale": [
             [
              0,
              "#0d0887"
             ],
             [
              0.1111111111111111,
              "#46039f"
             ],
             [
              0.2222222222222222,
              "#7201a8"
             ],
             [
              0.3333333333333333,
              "#9c179e"
             ],
             [
              0.4444444444444444,
              "#bd3786"
             ],
             [
              0.5555555555555556,
              "#d8576b"
             ],
             [
              0.6666666666666666,
              "#ed7953"
             ],
             [
              0.7777777777777778,
              "#fb9f3a"
             ],
             [
              0.8888888888888888,
              "#fdca26"
             ],
             [
              1,
              "#f0f921"
             ]
            ],
            "type": "histogram2dcontour"
           }
          ],
          "mesh3d": [
           {
            "colorbar": {
             "outlinewidth": 0,
             "ticks": ""
            },
            "type": "mesh3d"
           }
          ],
          "parcoords": [
           {
            "line": {
             "colorbar": {
              "outlinewidth": 0,
              "ticks": ""
             }
            },
            "type": "parcoords"
           }
          ],
          "pie": [
           {
            "automargin": true,
            "type": "pie"
           }
          ],
          "scatter": [
           {
            "marker": {
             "colorbar": {
              "outlinewidth": 0,
              "ticks": ""
             }
            },
            "type": "scatter"
           }
          ],
          "scatter3d": [
           {
            "line": {
             "colorbar": {
              "outlinewidth": 0,
              "ticks": ""
             }
            },
            "marker": {
             "colorbar": {
              "outlinewidth": 0,
              "ticks": ""
             }
            },
            "type": "scatter3d"
           }
          ],
          "scattercarpet": [
           {
            "marker": {
             "colorbar": {
              "outlinewidth": 0,
              "ticks": ""
             }
            },
            "type": "scattercarpet"
           }
          ],
          "scattergeo": [
           {
            "marker": {
             "colorbar": {
              "outlinewidth": 0,
              "ticks": ""
             }
            },
            "type": "scattergeo"
           }
          ],
          "scattergl": [
           {
            "marker": {
             "colorbar": {
              "outlinewidth": 0,
              "ticks": ""
             }
            },
            "type": "scattergl"
           }
          ],
          "scattermapbox": [
           {
            "marker": {
             "colorbar": {
              "outlinewidth": 0,
              "ticks": ""
             }
            },
            "type": "scattermapbox"
           }
          ],
          "scatterpolar": [
           {
            "marker": {
             "colorbar": {
              "outlinewidth": 0,
              "ticks": ""
             }
            },
            "type": "scatterpolar"
           }
          ],
          "scatterpolargl": [
           {
            "marker": {
             "colorbar": {
              "outlinewidth": 0,
              "ticks": ""
             }
            },
            "type": "scatterpolargl"
           }
          ],
          "scatterternary": [
           {
            "marker": {
             "colorbar": {
              "outlinewidth": 0,
              "ticks": ""
             }
            },
            "type": "scatterternary"
           }
          ],
          "surface": [
           {
            "colorbar": {
             "outlinewidth": 0,
             "ticks": ""
            },
            "colorscale": [
             [
              0,
              "#0d0887"
             ],
             [
              0.1111111111111111,
              "#46039f"
             ],
             [
              0.2222222222222222,
              "#7201a8"
             ],
             [
              0.3333333333333333,
              "#9c179e"
             ],
             [
              0.4444444444444444,
              "#bd3786"
             ],
             [
              0.5555555555555556,
              "#d8576b"
             ],
             [
              0.6666666666666666,
              "#ed7953"
             ],
             [
              0.7777777777777778,
              "#fb9f3a"
             ],
             [
              0.8888888888888888,
              "#fdca26"
             ],
             [
              1,
              "#f0f921"
             ]
            ],
            "type": "surface"
           }
          ],
          "table": [
           {
            "cells": {
             "fill": {
              "color": "#EBF0F8"
             },
             "line": {
              "color": "white"
             }
            },
            "header": {
             "fill": {
              "color": "#C8D4E3"
             },
             "line": {
              "color": "white"
             }
            },
            "type": "table"
           }
          ]
         },
         "layout": {
          "annotationdefaults": {
           "arrowcolor": "#2a3f5f",
           "arrowhead": 0,
           "arrowwidth": 1
          },
          "coloraxis": {
           "colorbar": {
            "outlinewidth": 0,
            "ticks": ""
           }
          },
          "colorscale": {
           "diverging": [
            [
             0,
             "#8e0152"
            ],
            [
             0.1,
             "#c51b7d"
            ],
            [
             0.2,
             "#de77ae"
            ],
            [
             0.3,
             "#f1b6da"
            ],
            [
             0.4,
             "#fde0ef"
            ],
            [
             0.5,
             "#f7f7f7"
            ],
            [
             0.6,
             "#e6f5d0"
            ],
            [
             0.7,
             "#b8e186"
            ],
            [
             0.8,
             "#7fbc41"
            ],
            [
             0.9,
             "#4d9221"
            ],
            [
             1,
             "#276419"
            ]
           ],
           "sequential": [
            [
             0,
             "#0d0887"
            ],
            [
             0.1111111111111111,
             "#46039f"
            ],
            [
             0.2222222222222222,
             "#7201a8"
            ],
            [
             0.3333333333333333,
             "#9c179e"
            ],
            [
             0.4444444444444444,
             "#bd3786"
            ],
            [
             0.5555555555555556,
             "#d8576b"
            ],
            [
             0.6666666666666666,
             "#ed7953"
            ],
            [
             0.7777777777777778,
             "#fb9f3a"
            ],
            [
             0.8888888888888888,
             "#fdca26"
            ],
            [
             1,
             "#f0f921"
            ]
           ],
           "sequentialminus": [
            [
             0,
             "#0d0887"
            ],
            [
             0.1111111111111111,
             "#46039f"
            ],
            [
             0.2222222222222222,
             "#7201a8"
            ],
            [
             0.3333333333333333,
             "#9c179e"
            ],
            [
             0.4444444444444444,
             "#bd3786"
            ],
            [
             0.5555555555555556,
             "#d8576b"
            ],
            [
             0.6666666666666666,
             "#ed7953"
            ],
            [
             0.7777777777777778,
             "#fb9f3a"
            ],
            [
             0.8888888888888888,
             "#fdca26"
            ],
            [
             1,
             "#f0f921"
            ]
           ]
          },
          "colorway": [
           "#1f77b4",
           "#ff7f0e",
           "#2ca02c",
           "#dc3912",
           "#9467bd",
           "#8c564b",
           "#e377c2",
           "#7f7f7f",
           "#bcbd22",
           "#17becf"
          ],
          "font": {
           "color": "#2a3f5f"
          },
          "geo": {
           "bgcolor": "white",
           "lakecolor": "white",
           "landcolor": "#E5ECF6",
           "showlakes": true,
           "showland": true,
           "subunitcolor": "white"
          },
          "hoverlabel": {
           "align": "left"
          },
          "hovermode": "closest",
          "mapbox": {
           "style": "light"
          },
          "paper_bgcolor": "white",
          "plot_bgcolor": "#E5ECF6",
          "polar": {
           "angularaxis": {
            "gridcolor": "white",
            "linecolor": "white",
            "ticks": ""
           },
           "bgcolor": "#E5ECF6",
           "radialaxis": {
            "gridcolor": "white",
            "linecolor": "white",
            "ticks": ""
           }
          },
          "scene": {
           "xaxis": {
            "backgroundcolor": "#E5ECF6",
            "gridcolor": "white",
            "gridwidth": 2,
            "linecolor": "white",
            "showbackground": true,
            "ticks": "",
            "zerolinecolor": "white"
           },
           "yaxis": {
            "backgroundcolor": "#E5ECF6",
            "gridcolor": "white",
            "gridwidth": 2,
            "linecolor": "white",
            "showbackground": true,
            "ticks": "",
            "zerolinecolor": "white"
           },
           "zaxis": {
            "backgroundcolor": "#E5ECF6",
            "gridcolor": "white",
            "gridwidth": 2,
            "linecolor": "white",
            "showbackground": true,
            "ticks": "",
            "zerolinecolor": "white"
           }
          },
          "shapedefaults": {
           "line": {
            "color": "#2a3f5f"
           }
          },
          "ternary": {
           "aaxis": {
            "gridcolor": "white",
            "linecolor": "white",
            "ticks": ""
           },
           "baxis": {
            "gridcolor": "white",
            "linecolor": "white",
            "ticks": ""
           },
           "bgcolor": "#E5ECF6",
           "caxis": {
            "gridcolor": "white",
            "linecolor": "white",
            "ticks": ""
           }
          },
          "title": {
           "x": 0.05
          },
          "xaxis": {
           "automargin": true,
           "gridcolor": "white",
           "linecolor": "white",
           "ticks": "",
           "title": {
            "standoff": 15
           },
           "zerolinecolor": "white",
           "zerolinewidth": 2
          },
          "yaxis": {
           "automargin": true,
           "gridcolor": "white",
           "linecolor": "white",
           "ticks": "",
           "title": {
            "standoff": 15
           },
           "zerolinecolor": "white",
           "zerolinewidth": 2
          }
         }
        },
        "width": 750,
        "xaxis": {
         "anchor": "y",
         "domain": [
          0,
          1
         ],
         "matches": "x3",
         "showticklabels": false
        },
        "xaxis2": {
         "anchor": "y2",
         "domain": [
          0,
          1
         ],
         "matches": "x3",
         "showticklabels": false
        },
        "xaxis3": {
         "anchor": "y3",
         "domain": [
          0,
          1
         ],
         "title": {
          "text": "Index"
         }
        },
        "yaxis": {
         "anchor": "x",
         "domain": [
          0.6944444444444444,
          1
         ],
         "title": {
          "text": "Price"
         }
        },
        "yaxis2": {
         "anchor": "x2",
         "domain": [
          0.3472222222222222,
          0.6527777777777777
         ],
         "tickformat": ".2%",
         "title": {
          "text": "Trade PnL"
         }
        },
        "yaxis3": {
         "anchor": "x3",
         "domain": [
          0,
          0.3055555555555555
         ],
         "title": {
          "text": "Cumulative returns"
         }
        }
       }
      },
      "image/png": "[encoded data removed]",
      "text/html": [
       "<div>                            <div id=\"89983755-d7e3-44b8-b432-5f2c8a188d9a\" class=\"plotly-graph-div\" style=\"height:960px; width:750px;\"></div>            <script type=\"text/javascript\">                require([\"plotly\"], function(Plotly) {                    window.PLOTLYENV=window.PLOTLYENV || {};                                    if (document.getElementById(\"89983755-d7e3-44b8-b432-5f2c8a188d9a\")) {                    Plotly.newPlot(                        \"89983755-d7e3-44b8-b432-5f2c8a188d9a\",                        [{\"line\":{\"color\":\"#1f77b4\"},\"name\":\"Close\",\"showlegend\":true,\"x\":[0,1],\"type\":\"scatter\",\"uid\":\"2e0e87de-f068-4ee6-aa8c-83d6d4952c7f\",\"xaxis\":\"x\",\"yaxis\":\"y\",\"y\":[160.6199951171875,160.6199951171875],\"legendgroup\":\"0\"},{\"line\":{\"color\":\"#7f7f7f\"},\"name\":\"Benchmark\",\"showlegend\":true,\"x\":[0,1],\"type\":\"scatter\",\"uid\":\"fb63a5a9-d15e-4a9e-bf22-914d28e2e2fc\",\"xaxis\":\"x3\",\"yaxis\":\"y3\",\"y\":[1.0,1.0],\"legendgroup\":\"1\"},{\"line\":{\"color\":\"#9467bd\"},\"name\":\"Value\",\"showlegend\":true,\"x\":[0,1],\"type\":\"scatter\",\"uid\":\"b0189b47-7503-4145-95c3-42cafd9c5206\",\"xaxis\":\"x3\",\"yaxis\":\"y3\",\"y\":[1.0,1.0],\"legendgroup\":\"2\"},{\"hoverinfo\":\"skip\",\"line\":{\"color\":\"rgba(0, 0, 0, 0)\",\"width\":0},\"opacity\":0.0,\"showlegend\":false,\"x\":[0,1],\"type\":\"scatter\",\"uid\":\"576af391-e671-4d64-a6ee-40473ae5fd08\",\"xaxis\":\"x3\",\"yaxis\":\"y3\",\"y\":[1,1],\"legendgroup\":\"3\"}],                        {\"annotations\":[{\"font\":{\"size\":16},\"showarrow\":false,\"text\":\"Orders\",\"x\":0.5,\"xanchor\":\"center\",\"xref\":\"paper\",\"y\":1.0,\"yanchor\":\"bottom\",\"yref\":\"paper\"},{\"font\":{\"size\":16},\"showarrow\":false,\"text\":\"Trade PnL\",\"x\":0.5,\"xanchor\":\"center\",\"xref\":\"paper\",\"y\":0.6527777777777777,\"yanchor\":\"bottom\",\"yref\":\"paper\"},{\"font\":{\"size\":16},\"showarrow\":false,\"text\":\"Cumulative Returns\",\"x\":0.5,\"xanchor\":\"center\",\"xref\":\"paper\",\"y\":0.3055555555555555,\"yanchor\":\"bottom\",\"yref\":\"paper\"}],\"template\":{\"data\":{\"barpolar\":[{\"marker\":{\"line\":{\"color\":\"#E5ECF6\",\"width\":0.5}},\"type\":\"barpolar\"}],\"bar\":[{\"error_x\":{\"color\":\"#2a3f5f\"},\"error_y\":{\"color\":\"#2a3f5f\"},\"marker\":{\"line\":{\"color\":\"#E5ECF6\",\"width\":0.5}},\"type\":\"bar\"}],\"carpet\":[{\"aaxis\":{\"endlinecolor\":\"#2a3f5f\",\"gridcolor\":\"white\",\"linecolor\":\"white\",\"minorgridcolor\":\"white\",\"startlinecolor\":\"#2a3f5f\"},\"baxis\":{\"endlinecolor\":\"#2a3f5f\",\"gridcolor\":\"white\",\"linecolor\":\"white\",\"minorgridcolor\":\"white\",\"startlinecolor\":\"#2a3f5f\"},\"type\":\"carpet\"}],\"choropleth\":[{\"colorbar\":{\"outlinewidth\":0,\"ticks\":\"\"},\"type\":\"choropleth\"}],\"contourcarpet\":[{\"colorbar\":{\"outlinewidth\":0,\"ticks\":\"\"},\"type\":\"contourcarpet\"}],\"contour\":[{\"colorbar\":{\"outlinewidth\":0,\"ticks\":\"\"},\"colorscale\":[[0.0,\"#0d0887\"],[0.1111111111111111,\"#46039f\"],[0.2222222222222222,\"#7201a8\"],[0.3333333333333333,\"#9c179e\"],[0.4444444444444444,\"#bd3786\"],[0.5555555555555556,\"#d8576b\"],[0.6666666666666666,\"#ed7953\"],[0.7777777777777778,\"#fb9f3a\"],[0.8888888888888888,\"#fdca26\"],[1.0,\"#f0f921\"]],\"type\":\"contour\"}],\"heatmapgl\":[{\"colorbar\":{\"outlinewidth\":0,\"ticks\":\"\"},\"colorscale\":[[0.0,\"#0d0887\"],[0.1111111111111111,\"#46039f\"],[0.2222222222222222,\"#7201a8\"],[0.3333333333333333,\"#9c179e\"],[0.4444444444444444,\"#bd3786\"],[0.5555555555555556,\"#d8576b\"],[0.6666666666666666,\"#ed7953\"],[0.7777777777777778,\"#fb9f3a\"],[0.8888888888888888,\"#fdca26\"],[1.0,\"#f0f921\"]],\"type\":\"heatmapgl\"}],\"heatmap\":[{\"colorbar\":{\"outlinewidth\":0,\"ticks\":\"\"},\"colorscale\":[[0.0,\"#0d0887\"],[0.1111111111111111,\"#46039f\"],[0.2222222222222222,\"#7201a8\"],[0.3333333333333333,\"#9c179e\"],[0.4444444444444444,\"#bd3786\"],[0.5555555555555556,\"#d8576b\"],[0.6666666666666666,\"#ed7953\"],[0.7777777777777778,\"#fb9f3a\"],[0.8888888888888888,\"#fdca26\"],[1.0,\"#f0f921\"]],\"type\":\"heatmap\"}],\"histogram2dcontour\":[{\"colorbar\":{\"outlinewidth\":0,\"ticks\":\"\"},\"colorscale\":[[0.0,\"#0d0887\"],[0.1111111111111111,\"#46039f\"],[0.2222222222222222,\"#7201a8\"],[0.3333333333333333,\"#9c179e\"],[0.4444444444444444,\"#bd3786\"],[0.5555555555555556,\"#d8576b\"],[0.6666666666666666,\"#ed7953\"],[0.7777777777777778,\"#fb9f3a\"],[0.8888888888888888,\"#fdca26\"],[1.0,\"#f0f921\"]],\"type\":\"histogram2dcontour\"}],\"histogram2d\":[{\"colorbar\":{\"outlinewidth\":0,\"ticks\":\"\"},\"colorscale\":[[0.0,\"#0d0887\"],[0.1111111111111111,\"#46039f\"],[0.2222222222222222,\"#7201a8\"],[0.3333333333333333,\"#9c179e\"],[0.4444444444444444,\"#bd3786\"],[0.5555555555555556,\"#d8576b\"],[0.6666666666666666,\"#ed7953\"],[0.7777777777777778,\"#fb9f3a\"],[0.8888888888888888,\"#fdca26\"],[1.0,\"#f0f921\"]],\"type\":\"histogram2d\"}],\"histogram\":[{\"marker\":{\"colorbar\":{\"outlinewidth\":0,\"ticks\":\"\"}},\"type\":\"histogram\"}],\"mesh3d\":[{\"colorbar\":{\"outlinewidth\":0,\"ticks\":\"\"},\"type\":\"mesh3d\"}],\"parcoords\":[{\"line\":{\"colorbar\":{\"outlinewidth\":0,\"ticks\":\"\"}},\"type\":\"parcoords\"}],\"pie\":[{\"automargin\":true,\"type\":\"pie\"}],\"scatter3d\":[{\"line\":{\"colorbar\":{\"outlinewidth\":0,\"ticks\":\"\"}},\"marker\":{\"colorbar\":{\"outlinewidth\":0,\"ticks\":\"\"}},\"type\":\"scatter3d\"}],\"scattercarpet\":[{\"marker\":{\"colorbar\":{\"outlinewidth\":0,\"ticks\":\"\"}},\"type\":\"scattercarpet\"}],\"scattergeo\":[{\"marker\":{\"colorbar\":{\"outlinewidth\":0,\"ticks\":\"\"}},\"type\":\"scattergeo\"}],\"scattergl\":[{\"marker\":{\"colorbar\":{\"outlinewidth\":0,\"ticks\":\"\"}},\"type\":\"scattergl\"}],\"scattermapbox\":[{\"marker\":{\"colorbar\":{\"outlinewidth\":0,\"ticks\":\"\"}},\"type\":\"scattermapbox\"}],\"scatterpolargl\":[{\"marker\":{\"colorbar\":{\"outlinewidth\":0,\"ticks\":\"\"}},\"type\":\"scatterpolargl\"}],\"scatterpolar\":[{\"marker\":{\"colorbar\":{\"outlinewidth\":0,\"ticks\":\"\"}},\"type\":\"scatterpolar\"}],\"scatter\":[{\"marker\":{\"colorbar\":{\"outlinewidth\":0,\"ticks\":\"\"}},\"type\":\"scatter\"}],\"scatterternary\":[{\"marker\":{\"colorbar\":{\"outlinewidth\":0,\"ticks\":\"\"}},\"type\":\"scatterternary\"}],\"surface\":[{\"colorbar\":{\"outlinewidth\":0,\"ticks\":\"\"},\"colorscale\":[[0.0,\"#0d0887\"],[0.1111111111111111,\"#46039f\"],[0.2222222222222222,\"#7201a8\"],[0.3333333333333333,\"#9c179e\"],[0.4444444444444444,\"#bd3786\"],[0.5555555555555556,\"#d8576b\"],[0.6666666666666666,\"#ed7953\"],[0.7777777777777778,\"#fb9f3a\"],[0.8888888888888888,\"#fdca26\"],[1.0,\"#f0f921\"]],\"type\":\"surface\"}],\"table\":[{\"cells\":{\"fill\":{\"color\":\"#EBF0F8\"},\"line\":{\"color\":\"white\"}},\"header\":{\"fill\":{\"color\":\"#C8D4E3\"},\"line\":{\"color\":\"white\"}},\"type\":\"table\"}]},\"layout\":{\"annotationdefaults\":{\"arrowcolor\":\"#2a3f5f\",\"arrowhead\":0,\"arrowwidth\":1},\"coloraxis\":{\"colorbar\":{\"outlinewidth\":0,\"ticks\":\"\"}},\"colorscale\":{\"diverging\":[[0,\"#8e0152\"],[0.1,\"#c51b7d\"],[0.2,\"#de77ae\"],[0.3,\"#f1b6da\"],[0.4,\"#fde0ef\"],[0.5,\"#f7f7f7\"],[0.6,\"#e6f5d0\"],[0.7,\"#b8e186\"],[0.8,\"#7fbc41\"],[0.9,\"#4d9221\"],[1,\"#276419\"]],\"sequential\":[[0.0,\"#0d0887\"],[0.1111111111111111,\"#46039f\"],[0.2222222222222222,\"#7201a8\"],[0.3333333333333333,\"#9c179e\"],[0.4444444444444444,\"#bd3786\"],[0.5555555555555556,\"#d8576b\"],[0.6666666666666666,\"#ed7953\"],[0.7777777777777778,\"#fb9f3a\"],[0.8888888888888888,\"#fdca26\"],[1.0,\"#f0f921\"]],\"sequentialminus\":[[0.0,\"#0d0887\"],[0.1111111111111111,\"#46039f\"],[0.2222222222222222,\"#7201a8\"],[0.3333333333333333,\"#9c179e\"],[0.4444444444444444,\"#bd3786\"],[0.5555555555555556,\"#d8576b\"],[0.6666666666666666,\"#ed7953\"],[0.7777777777777778,\"#fb9f3a\"],[0.8888888888888888,\"#fdca26\"],[1.0,\"#f0f921\"]]},\"colorway\":[\"#1f77b4\",\"#ff7f0e\",\"#2ca02c\",\"#dc3912\",\"#9467bd\",\"#8c564b\",\"#e377c2\",\"#7f7f7f\",\"#bcbd22\",\"#17becf\"],\"font\":{\"color\":\"#2a3f5f\"},\"geo\":{\"bgcolor\":\"white\",\"lakecolor\":\"white\",\"landcolor\":\"#E5ECF6\",\"showlakes\":true,\"showland\":true,\"subunitcolor\":\"white\"},\"hoverlabel\":{\"align\":\"left\"},\"hovermode\":\"closest\",\"mapbox\":{\"style\":\"light\"},\"paper_bgcolor\":\"white\",\"plot_bgcolor\":\"#E5ECF6\",\"polar\":{\"angularaxis\":{\"gridcolor\":\"white\",\"linecolor\":\"white\",\"ticks\":\"\"},\"bgcolor\":\"#E5ECF6\",\"radialaxis\":{\"gridcolor\":\"white\",\"linecolor\":\"white\",\"ticks\":\"\"}},\"scene\":{\"xaxis\":{\"backgroundcolor\":\"#E5ECF6\",\"gridcolor\":\"white\",\"gridwidth\":2,\"linecolor\":\"white\",\"showbackground\":true,\"ticks\":\"\",\"zerolinecolor\":\"white\"},\"yaxis\":{\"backgroundcolor\":\"#E5ECF6\",\"gridcolor\":\"white\",\"gridwidth\":2,\"linecolor\":\"white\",\"showbackground\":true,\"ticks\":\"\",\"zerolinecolor\":\"white\"},\"zaxis\":{\"backgroundcolor\":\"#E5ECF6\",\"gridcolor\":\"white\",\"gridwidth\":2,\"linecolor\":\"white\",\"showbackground\":true,\"ticks\":\"\",\"zerolinecolor\":\"white\"}},\"shapedefaults\":{\"line\":{\"color\":\"#2a3f5f\"}},\"ternary\":{\"aaxis\":{\"gridcolor\":\"white\",\"linecolor\":\"white\",\"ticks\":\"\"},\"baxis\":{\"gridcolor\":\"white\",\"linecolor\":\"white\",\"ticks\":\"\"},\"bgcolor\":\"#E5ECF6\",\"caxis\":{\"gridcolor\":\"white\",\"linecolor\":\"white\",\"ticks\":\"\"}},\"title\":{\"x\":0.05},\"xaxis\":{\"automargin\":true,\"gridcolor\":\"white\",\"linecolor\":\"white\",\"ticks\":\"\",\"title\":{\"standoff\":15},\"zerolinecolor\":\"white\",\"zerolinewidth\":2},\"yaxis\":{\"automargin\":true,\"gridcolor\":\"white\",\"linecolor\":\"white\",\"ticks\":\"\",\"title\":{\"standoff\":15},\"zerolinecolor\":\"white\",\"zerolinewidth\":2}}},\"xaxis\":{\"anchor\":\"y\",\"domain\":[0.0,1.0],\"matches\":\"x3\",\"showticklabels\":false},\"yaxis\":{\"anchor\":\"x\",\"domain\":[0.6944444444444444,1.0],\"title\":{\"text\":\"Price\"}},\"xaxis2\":{\"anchor\":\"y2\",\"domain\":[0.0,1.0],\"matches\":\"x3\",\"showticklabels\":false},\"yaxis2\":{\"anchor\":\"x2\",\"domain\":[0.3472222222222222,0.6527777777777777],\"tickformat\":\".2%\",\"title\":{\"text\":\"Trade PnL\"}},\"xaxis3\":{\"anchor\":\"y3\",\"domain\":[0.0,1.0],\"title\":{\"text\":\"Index\"}},\"yaxis3\":{\"anchor\":\"x3\",\"domain\":[0.0,0.3055555555555555],\"title\":{\"text\":\"Cumulative returns\"}},\"margin\":{\"t\":30,\"b\":30,\"l\":30,\"r\":30},\"legend\":{\"orientation\":\"h\",\"yanchor\":\"bottom\",\"y\":1.0416666666666667,\"xanchor\":\"right\",\"x\":1,\"traceorder\":\"normal\"},\"width\":750,\"height\":960,\"showlegend\":true,\"shapes\":[{\"line\":{\"color\":\"gray\",\"dash\":\"dash\"},\"type\":\"line\",\"x0\":0.0,\"x1\":1.0,\"xref\":\"paper\",\"y0\":0,\"y1\":0,\"yref\":\"y2\"},{\"line\":{\"color\":\"gray\",\"dash\":\"dash\"},\"type\":\"line\",\"x0\":0.0,\"x1\":1.0,\"xref\":\"paper\",\"y0\":1,\"y1\":1,\"yref\":\"y3\"}]},                        {\"responsive\": true}                    ).then(function(){\n",
       "                            \n",
       "var gd = document.getElementById('89983755-d7e3-44b8-b432-5f2c8a188d9a');\n",
       "var x = new MutationObserver(function (mutations, observer) {{\n",
       "        var display = window.getComputedStyle(gd).display;\n",
       "        if (!display || display === 'none') {{\n",
       "            console.log([gd, 'removed!']);\n",
       "            Plotly.purge(gd);\n",
       "            observer.disconnect();\n",
       "        }}\n",
       "}});\n",
       "\n",
       "// Listen for the removal of the full notebook cells\n",
       "var notebookContainer = gd.closest('#notebook-container');\n",
       "if (notebookContainer) {{\n",
       "    x.observe(notebookContainer, {childList: true});\n",
       "}}\n",
       "\n",
       "// Listen for the clearing of the current output cell\n",
       "var outputEl = gd.closest('.output');\n",
       "if (outputEl) {{\n",
       "    x.observe(outputEl, {childList: true});\n",
       "}}\n",
       "\n",
       "                        })                };                });            </script>        </div>"
      ]
     },
     "metadata": {},
     "output_type": "display_data"
    },
    {
     "data": {
      "application/vnd.plotly.v1+json": {
       "config": {
        "plotlyServerURL": "https://plot.ly"
       },
       "data": [
        {
         "legendgroup": "0",
         "line": {
          "color": "#1f77b4"
         },
         "name": "Close",
         "showlegend": true,
         "type": "scatter",
         "uid": "43cc3a5b-8a33-4023-9e17-f157ca10c15b",
         "x": [
          0,
          1
         ],
         "xaxis": "x",
         "y": [
          68.43399810791016,
          68.43399810791016
         ],
         "yaxis": "y"
        },
        {
         "legendgroup": "1",
         "line": {
          "color": "#7f7f7f"
         },
         "name": "Benchmark",
         "showlegend": true,
         "type": "scatter",
         "uid": "0f226751-22ca-469c-8454-42ea5bb86f7d",
         "x": [
          0,
          1
         ],
         "xaxis": "x3",
         "y": [
          1,
          1
         ],
         "yaxis": "y3"
        },
        {
         "legendgroup": "2",
         "line": {
          "color": "#9467bd"
         },
         "name": "Value",
         "showlegend": true,
         "type": "scatter",
         "uid": "b769470b-ffad-4778-9af9-a20ed9fc200e",
         "x": [
          0,
          1
         ],
         "xaxis": "x3",
         "y": [
          1,
          1
         ],
         "yaxis": "y3"
        },
        {
         "hoverinfo": "skip",
         "legendgroup": "3",
         "line": {
          "color": "rgba(0, 0, 0, 0)",
          "width": 0
         },
         "opacity": 0,
         "showlegend": false,
         "type": "scatter",
         "uid": "7e90c36a-4f99-4f15-84ef-b358494cae00",
         "x": [
          0,
          1
         ],
         "xaxis": "x3",
         "y": [
          1,
          1
         ],
         "yaxis": "y3"
        }
       ],
       "layout": {
        "annotations": [
         {
          "font": {
           "size": 16
          },
          "showarrow": false,
          "text": "Orders",
          "x": 0.5,
          "xanchor": "center",
          "xref": "paper",
          "y": 1,
          "yanchor": "bottom",
          "yref": "paper"
         },
         {
          "font": {
           "size": 16
          },
          "showarrow": false,
          "text": "Trade PnL",
          "x": 0.5,
          "xanchor": "center",
          "xref": "paper",
          "y": 0.6527777777777777,
          "yanchor": "bottom",
          "yref": "paper"
         },
         {
          "font": {
           "size": 16
          },
          "showarrow": false,
          "text": "Cumulative Returns",
          "x": 0.5,
          "xanchor": "center",
          "xref": "paper",
          "y": 0.3055555555555555,
          "yanchor": "bottom",
          "yref": "paper"
         }
        ],
        "height": 960,
        "legend": {
         "orientation": "h",
         "traceorder": "normal",
         "x": 1,
         "xanchor": "right",
         "y": 1.0416666666666667,
         "yanchor": "bottom"
        },
        "margin": {
         "b": 30,
         "l": 30,
         "r": 30,
         "t": 30
        },
        "shapes": [
         {
          "line": {
           "color": "gray",
           "dash": "dash"
          },
          "type": "line",
          "x0": 0,
          "x1": 1,
          "xref": "paper",
          "y0": 0,
          "y1": 0,
          "yref": "y2"
         },
         {
          "line": {
           "color": "gray",
           "dash": "dash"
          },
          "type": "line",
          "x0": 0,
          "x1": 1,
          "xref": "paper",
          "y0": 1,
          "y1": 1,
          "yref": "y3"
         }
        ],
        "showlegend": true,
        "template": {
         "data": {
          "bar": [
           {
            "error_x": {
             "color": "#2a3f5f"
            },
            "error_y": {
             "color": "#2a3f5f"
            },
            "marker": {
             "line": {
              "color": "#E5ECF6",
              "width": 0.5
             }
            },
            "type": "bar"
           }
          ],
          "barpolar": [
           {
            "marker": {
             "line": {
              "color": "#E5ECF6",
              "width": 0.5
             }
            },
            "type": "barpolar"
           }
          ],
          "carpet": [
           {
            "aaxis": {
             "endlinecolor": "#2a3f5f",
             "gridcolor": "white",
             "linecolor": "white",
             "minorgridcolor": "white",
             "startlinecolor": "#2a3f5f"
            },
            "baxis": {
             "endlinecolor": "#2a3f5f",
             "gridcolor": "white",
             "linecolor": "white",
             "minorgridcolor": "white",
             "startlinecolor": "#2a3f5f"
            },
            "type": "carpet"
           }
          ],
          "choropleth": [
           {
            "colorbar": {
             "outlinewidth": 0,
             "ticks": ""
            },
            "type": "choropleth"
           }
          ],
          "contour": [
           {
            "colorbar": {
             "outlinewidth": 0,
             "ticks": ""
            },
            "colorscale": [
             [
              0,
              "#0d0887"
             ],
             [
              0.1111111111111111,
              "#46039f"
             ],
             [
              0.2222222222222222,
              "#7201a8"
             ],
             [
              0.3333333333333333,
              "#9c179e"
             ],
             [
              0.4444444444444444,
              "#bd3786"
             ],
             [
              0.5555555555555556,
              "#d8576b"
             ],
             [
              0.6666666666666666,
              "#ed7953"
             ],
             [
              0.7777777777777778,
              "#fb9f3a"
             ],
             [
              0.8888888888888888,
              "#fdca26"
             ],
             [
              1,
              "#f0f921"
             ]
            ],
            "type": "contour"
           }
          ],
          "contourcarpet": [
           {
            "colorbar": {
             "outlinewidth": 0,
             "ticks": ""
            },
            "type": "contourcarpet"
           }
          ],
          "heatmap": [
           {
            "colorbar": {
             "outlinewidth": 0,
             "ticks": ""
            },
            "colorscale": [
             [
              0,
              "#0d0887"
             ],
             [
              0.1111111111111111,
              "#46039f"
             ],
             [
              0.2222222222222222,
              "#7201a8"
             ],
             [
              0.3333333333333333,
              "#9c179e"
             ],
             [
              0.4444444444444444,
              "#bd3786"
             ],
             [
              0.5555555555555556,
              "#d8576b"
             ],
             [
              0.6666666666666666,
              "#ed7953"
             ],
             [
              0.7777777777777778,
              "#fb9f3a"
             ],
             [
              0.8888888888888888,
              "#fdca26"
             ],
             [
              1,
              "#f0f921"
             ]
            ],
            "type": "heatmap"
           }
          ],
          "heatmapgl": [
           {
            "colorbar": {
             "outlinewidth": 0,
             "ticks": ""
            },
            "colorscale": [
             [
              0,
              "#0d0887"
             ],
             [
              0.1111111111111111,
              "#46039f"
             ],
             [
              0.2222222222222222,
              "#7201a8"
             ],
             [
              0.3333333333333333,
              "#9c179e"
             ],
             [
              0.4444444444444444,
              "#bd3786"
             ],
             [
              0.5555555555555556,
              "#d8576b"
             ],
             [
              0.6666666666666666,
              "#ed7953"
             ],
             [
              0.7777777777777778,
              "#fb9f3a"
             ],
             [
              0.8888888888888888,
              "#fdca26"
             ],
             [
              1,
              "#f0f921"
             ]
            ],
            "type": "heatmapgl"
           }
          ],
          "histogram": [
           {
            "marker": {
             "colorbar": {
              "outlinewidth": 0,
              "ticks": ""
             }
            },
            "type": "histogram"
           }
          ],
          "histogram2d": [
           {
            "colorbar": {
             "outlinewidth": 0,
             "ticks": ""
            },
            "colorscale": [
             [
              0,
              "#0d0887"
             ],
             [
              0.1111111111111111,
              "#46039f"
             ],
             [
              0.2222222222222222,
              "#7201a8"
             ],
             [
              0.3333333333333333,
              "#9c179e"
             ],
             [
              0.4444444444444444,
              "#bd3786"
             ],
             [
              0.5555555555555556,
              "#d8576b"
             ],
             [
              0.6666666666666666,
              "#ed7953"
             ],
             [
              0.7777777777777778,
              "#fb9f3a"
             ],
             [
              0.8888888888888888,
              "#fdca26"
             ],
             [
              1,
              "#f0f921"
             ]
            ],
            "type": "histogram2d"
           }
          ],
          "histogram2dcontour": [
           {
            "colorbar": {
             "outlinewidth": 0,
             "ticks": ""
            },
            "colorscale": [
             [
              0,
              "#0d0887"
             ],
             [
              0.1111111111111111,
              "#46039f"
             ],
             [
              0.2222222222222222,
              "#7201a8"
             ],
             [
              0.3333333333333333,
              "#9c179e"
             ],
             [
              0.4444444444444444,
              "#bd3786"
             ],
             [
              0.5555555555555556,
              "#d8576b"
             ],
             [
              0.6666666666666666,
              "#ed7953"
             ],
             [
              0.7777777777777778,
              "#fb9f3a"
             ],
             [
              0.8888888888888888,
              "#fdca26"
             ],
             [
              1,
              "#f0f921"
             ]
            ],
            "type": "histogram2dcontour"
           }
          ],
          "mesh3d": [
           {
            "colorbar": {
             "outlinewidth": 0,
             "ticks": ""
            },
            "type": "mesh3d"
           }
          ],
          "parcoords": [
           {
            "line": {
             "colorbar": {
              "outlinewidth": 0,
              "ticks": ""
             }
            },
            "type": "parcoords"
           }
          ],
          "pie": [
           {
            "automargin": true,
            "type": "pie"
           }
          ],
          "scatter": [
           {
            "marker": {
             "colorbar": {
              "outlinewidth": 0,
              "ticks": ""
             }
            },
            "type": "scatter"
           }
          ],
          "scatter3d": [
           {
            "line": {
             "colorbar": {
              "outlinewidth": 0,
              "ticks": ""
             }
            },
            "marker": {
             "colorbar": {
              "outlinewidth": 0,
              "ticks": ""
             }
            },
            "type": "scatter3d"
           }
          ],
          "scattercarpet": [
           {
            "marker": {
             "colorbar": {
              "outlinewidth": 0,
              "ticks": ""
             }
            },
            "type": "scattercarpet"
           }
          ],
          "scattergeo": [
           {
            "marker": {
             "colorbar": {
              "outlinewidth": 0,
              "ticks": ""
             }
            },
            "type": "scattergeo"
           }
          ],
          "scattergl": [
           {
            "marker": {
             "colorbar": {
              "outlinewidth": 0,
              "ticks": ""
             }
            },
            "type": "scattergl"
           }
          ],
          "scattermapbox": [
           {
            "marker": {
             "colorbar": {
              "outlinewidth": 0,
              "ticks": ""
             }
            },
            "type": "scattermapbox"
           }
          ],
          "scatterpolar": [
           {
            "marker": {
             "colorbar": {
              "outlinewidth": 0,
              "ticks": ""
             }
            },
            "type": "scatterpolar"
           }
          ],
          "scatterpolargl": [
           {
            "marker": {
             "colorbar": {
              "outlinewidth": 0,
              "ticks": ""
             }
            },
            "type": "scatterpolargl"
           }
          ],
          "scatterternary": [
           {
            "marker": {
             "colorbar": {
              "outlinewidth": 0,
              "ticks": ""
             }
            },
            "type": "scatterternary"
           }
          ],
          "surface": [
           {
            "colorbar": {
             "outlinewidth": 0,
             "ticks": ""
            },
            "colorscale": [
             [
              0,
              "#0d0887"
             ],
             [
              0.1111111111111111,
              "#46039f"
             ],
             [
              0.2222222222222222,
              "#7201a8"
             ],
             [
              0.3333333333333333,
              "#9c179e"
             ],
             [
              0.4444444444444444,
              "#bd3786"
             ],
             [
              0.5555555555555556,
              "#d8576b"
             ],
             [
              0.6666666666666666,
              "#ed7953"
             ],
             [
              0.7777777777777778,
              "#fb9f3a"
             ],
             [
              0.8888888888888888,
              "#fdca26"
             ],
             [
              1,
              "#f0f921"
             ]
            ],
            "type": "surface"
           }
          ],
          "table": [
           {
            "cells": {
             "fill": {
              "color": "#EBF0F8"
             },
             "line": {
              "color": "white"
             }
            },
            "header": {
             "fill": {
              "color": "#C8D4E3"
             },
             "line": {
              "color": "white"
             }
            },
            "type": "table"
           }
          ]
         },
         "layout": {
          "annotationdefaults": {
           "arrowcolor": "#2a3f5f",
           "arrowhead": 0,
           "arrowwidth": 1
          },
          "coloraxis": {
           "colorbar": {
            "outlinewidth": 0,
            "ticks": ""
           }
          },
          "colorscale": {
           "diverging": [
            [
             0,
             "#8e0152"
            ],
            [
             0.1,
             "#c51b7d"
            ],
            [
             0.2,
             "#de77ae"
            ],
            [
             0.3,
             "#f1b6da"
            ],
            [
             0.4,
             "#fde0ef"
            ],
            [
             0.5,
             "#f7f7f7"
            ],
            [
             0.6,
             "#e6f5d0"
            ],
            [
             0.7,
             "#b8e186"
            ],
            [
             0.8,
             "#7fbc41"
            ],
            [
             0.9,
             "#4d9221"
            ],
            [
             1,
             "#276419"
            ]
           ],
           "sequential": [
            [
             0,
             "#0d0887"
            ],
            [
             0.1111111111111111,
             "#46039f"
            ],
            [
             0.2222222222222222,
             "#7201a8"
            ],
            [
             0.3333333333333333,
             "#9c179e"
            ],
            [
             0.4444444444444444,
             "#bd3786"
            ],
            [
             0.5555555555555556,
             "#d8576b"
            ],
            [
             0.6666666666666666,
             "#ed7953"
            ],
            [
             0.7777777777777778,
             "#fb9f3a"
            ],
            [
             0.8888888888888888,
             "#fdca26"
            ],
            [
             1,
             "#f0f921"
            ]
           ],
           "sequentialminus": [
            [
             0,
             "#0d0887"
            ],
            [
             0.1111111111111111,
             "#46039f"
            ],
            [
             0.2222222222222222,
             "#7201a8"
            ],
            [
             0.3333333333333333,
             "#9c179e"
            ],
            [
             0.4444444444444444,
             "#bd3786"
            ],
            [
             0.5555555555555556,
             "#d8576b"
            ],
            [
             0.6666666666666666,
             "#ed7953"
            ],
            [
             0.7777777777777778,
             "#fb9f3a"
            ],
            [
             0.8888888888888888,
             "#fdca26"
            ],
            [
             1,
             "#f0f921"
            ]
           ]
          },
          "colorway": [
           "#1f77b4",
           "#ff7f0e",
           "#2ca02c",
           "#dc3912",
           "#9467bd",
           "#8c564b",
           "#e377c2",
           "#7f7f7f",
           "#bcbd22",
           "#17becf"
          ],
          "font": {
           "color": "#2a3f5f"
          },
          "geo": {
           "bgcolor": "white",
           "lakecolor": "white",
           "landcolor": "#E5ECF6",
           "showlakes": true,
           "showland": true,
           "subunitcolor": "white"
          },
          "hoverlabel": {
           "align": "left"
          },
          "hovermode": "closest",
          "mapbox": {
           "style": "light"
          },
          "paper_bgcolor": "white",
          "plot_bgcolor": "#E5ECF6",
          "polar": {
           "angularaxis": {
            "gridcolor": "white",
            "linecolor": "white",
            "ticks": ""
           },
           "bgcolor": "#E5ECF6",
           "radialaxis": {
            "gridcolor": "white",
            "linecolor": "white",
            "ticks": ""
           }
          },
          "scene": {
           "xaxis": {
            "backgroundcolor": "#E5ECF6",
            "gridcolor": "white",
            "gridwidth": 2,
            "linecolor": "white",
            "showbackground": true,
            "ticks": "",
            "zerolinecolor": "white"
           },
           "yaxis": {
            "backgroundcolor": "#E5ECF6",
            "gridcolor": "white",
            "gridwidth": 2,
            "linecolor": "white",
            "showbackground": true,
            "ticks": "",
            "zerolinecolor": "white"
           },
           "zaxis": {
            "backgroundcolor": "#E5ECF6",
            "gridcolor": "white",
            "gridwidth": 2,
            "linecolor": "white",
            "showbackground": true,
            "ticks": "",
            "zerolinecolor": "white"
           }
          },
          "shapedefaults": {
           "line": {
            "color": "#2a3f5f"
           }
          },
          "ternary": {
           "aaxis": {
            "gridcolor": "white",
            "linecolor": "white",
            "ticks": ""
           },
           "baxis": {
            "gridcolor": "white",
            "linecolor": "white",
            "ticks": ""
           },
           "bgcolor": "#E5ECF6",
           "caxis": {
            "gridcolor": "white",
            "linecolor": "white",
            "ticks": ""
           }
          },
          "title": {
           "x": 0.05
          },
          "xaxis": {
           "automargin": true,
           "gridcolor": "white",
           "linecolor": "white",
           "ticks": "",
           "title": {
            "standoff": 15
           },
           "zerolinecolor": "white",
           "zerolinewidth": 2
          },
          "yaxis": {
           "automargin": true,
           "gridcolor": "white",
           "linecolor": "white",
           "ticks": "",
           "title": {
            "standoff": 15
           },
           "zerolinecolor": "white",
           "zerolinewidth": 2
          }
         }
        },
        "width": 750,
        "xaxis": {
         "anchor": "y",
         "domain": [
          0,
          1
         ],
         "matches": "x3",
         "showticklabels": false
        },
        "xaxis2": {
         "anchor": "y2",
         "domain": [
          0,
          1
         ],
         "matches": "x3",
         "showticklabels": false
        },
        "xaxis3": {
         "anchor": "y3",
         "domain": [
          0,
          1
         ],
         "title": {
          "text": "Index"
         }
        },
        "yaxis": {
         "anchor": "x",
         "domain": [
          0.6944444444444444,
          1
         ],
         "title": {
          "text": "Price"
         }
        },
        "yaxis2": {
         "anchor": "x2",
         "domain": [
          0.3472222222222222,
          0.6527777777777777
         ],
         "tickformat": ".2%",
         "title": {
          "text": "Trade PnL"
         }
        },
        "yaxis3": {
         "anchor": "x3",
         "domain": [
          0,
          0.3055555555555555
         ],
         "title": {
          "text": "Cumulative returns"
         }
        }
       }
      },
      "image/png": "[encoded data removed]",
      "text/html": [
       "<div>                            <div id=\"0bebec94-de03-4845-bfe5-14ce95a58a40\" class=\"plotly-graph-div\" style=\"height:960px; width:750px;\"></div>            <script type=\"text/javascript\">                require([\"plotly\"], function(Plotly) {                    window.PLOTLYENV=window.PLOTLYENV || {};                                    if (document.getElementById(\"0bebec94-de03-4845-bfe5-14ce95a58a40\")) {                    Plotly.newPlot(                        \"0bebec94-de03-4845-bfe5-14ce95a58a40\",                        [{\"line\":{\"color\":\"#1f77b4\"},\"name\":\"Close\",\"showlegend\":true,\"x\":[0,1],\"type\":\"scatter\",\"uid\":\"43cc3a5b-8a33-4023-9e17-f157ca10c15b\",\"xaxis\":\"x\",\"yaxis\":\"y\",\"y\":[68.43399810791016,68.43399810791016],\"legendgroup\":\"0\"},{\"line\":{\"color\":\"#7f7f7f\"},\"name\":\"Benchmark\",\"showlegend\":true,\"x\":[0,1],\"type\":\"scatter\",\"uid\":\"0f226751-22ca-469c-8454-42ea5bb86f7d\",\"xaxis\":\"x3\",\"yaxis\":\"y3\",\"y\":[1.0,1.0],\"legendgroup\":\"1\"},{\"line\":{\"color\":\"#9467bd\"},\"name\":\"Value\",\"showlegend\":true,\"x\":[0,1],\"type\":\"scatter\",\"uid\":\"b769470b-ffad-4778-9af9-a20ed9fc200e\",\"xaxis\":\"x3\",\"yaxis\":\"y3\",\"y\":[1.0,1.0],\"legendgroup\":\"2\"},{\"hoverinfo\":\"skip\",\"line\":{\"color\":\"rgba(0, 0, 0, 0)\",\"width\":0},\"opacity\":0.0,\"showlegend\":false,\"x\":[0,1],\"type\":\"scatter\",\"uid\":\"7e90c36a-4f99-4f15-84ef-b358494cae00\",\"xaxis\":\"x3\",\"yaxis\":\"y3\",\"y\":[1,1],\"legendgroup\":\"3\"}],                        {\"annotations\":[{\"font\":{\"size\":16},\"showarrow\":false,\"text\":\"Orders\",\"x\":0.5,\"xanchor\":\"center\",\"xref\":\"paper\",\"y\":1.0,\"yanchor\":\"bottom\",\"yref\":\"paper\"},{\"font\":{\"size\":16},\"showarrow\":false,\"text\":\"Trade PnL\",\"x\":0.5,\"xanchor\":\"center\",\"xref\":\"paper\",\"y\":0.6527777777777777,\"yanchor\":\"bottom\",\"yref\":\"paper\"},{\"font\":{\"size\":16},\"showarrow\":false,\"text\":\"Cumulative Returns\",\"x\":0.5,\"xanchor\":\"center\",\"xref\":\"paper\",\"y\":0.3055555555555555,\"yanchor\":\"bottom\",\"yref\":\"paper\"}],\"template\":{\"data\":{\"barpolar\":[{\"marker\":{\"line\":{\"color\":\"#E5ECF6\",\"width\":0.5}},\"type\":\"barpolar\"}],\"bar\":[{\"error_x\":{\"color\":\"#2a3f5f\"},\"error_y\":{\"color\":\"#2a3f5f\"},\"marker\":{\"line\":{\"color\":\"#E5ECF6\",\"width\":0.5}},\"type\":\"bar\"}],\"carpet\":[{\"aaxis\":{\"endlinecolor\":\"#2a3f5f\",\"gridcolor\":\"white\",\"linecolor\":\"white\",\"minorgridcolor\":\"white\",\"startlinecolor\":\"#2a3f5f\"},\"baxis\":{\"endlinecolor\":\"#2a3f5f\",\"gridcolor\":\"white\",\"linecolor\":\"white\",\"minorgridcolor\":\"white\",\"startlinecolor\":\"#2a3f5f\"},\"type\":\"carpet\"}],\"choropleth\":[{\"colorbar\":{\"outlinewidth\":0,\"ticks\":\"\"},\"type\":\"choropleth\"}],\"contourcarpet\":[{\"colorbar\":{\"outlinewidth\":0,\"ticks\":\"\"},\"type\":\"contourcarpet\"}],\"contour\":[{\"colorbar\":{\"outlinewidth\":0,\"ticks\":\"\"},\"colorscale\":[[0.0,\"#0d0887\"],[0.1111111111111111,\"#46039f\"],[0.2222222222222222,\"#7201a8\"],[0.3333333333333333,\"#9c179e\"],[0.4444444444444444,\"#bd3786\"],[0.5555555555555556,\"#d8576b\"],[0.6666666666666666,\"#ed7953\"],[0.7777777777777778,\"#fb9f3a\"],[0.8888888888888888,\"#fdca26\"],[1.0,\"#f0f921\"]],\"type\":\"contour\"}],\"heatmapgl\":[{\"colorbar\":{\"outlinewidth\":0,\"ticks\":\"\"},\"colorscale\":[[0.0,\"#0d0887\"],[0.1111111111111111,\"#46039f\"],[0.2222222222222222,\"#7201a8\"],[0.3333333333333333,\"#9c179e\"],[0.4444444444444444,\"#bd3786\"],[0.5555555555555556,\"#d8576b\"],[0.6666666666666666,\"#ed7953\"],[0.7777777777777778,\"#fb9f3a\"],[0.8888888888888888,\"#fdca26\"],[1.0,\"#f0f921\"]],\"type\":\"heatmapgl\"}],\"heatmap\":[{\"colorbar\":{\"outlinewidth\":0,\"ticks\":\"\"},\"colorscale\":[[0.0,\"#0d0887\"],[0.1111111111111111,\"#46039f\"],[0.2222222222222222,\"#7201a8\"],[0.3333333333333333,\"#9c179e\"],[0.4444444444444444,\"#bd3786\"],[0.5555555555555556,\"#d8576b\"],[0.6666666666666666,\"#ed7953\"],[0.7777777777777778,\"#fb9f3a\"],[0.8888888888888888,\"#fdca26\"],[1.0,\"#f0f921\"]],\"type\":\"heatmap\"}],\"histogram2dcontour\":[{\"colorbar\":{\"outlinewidth\":0,\"ticks\":\"\"},\"colorscale\":[[0.0,\"#0d0887\"],[0.1111111111111111,\"#46039f\"],[0.2222222222222222,\"#7201a8\"],[0.3333333333333333,\"#9c179e\"],[0.4444444444444444,\"#bd3786\"],[0.5555555555555556,\"#d8576b\"],[0.6666666666666666,\"#ed7953\"],[0.7777777777777778,\"#fb9f3a\"],[0.8888888888888888,\"#fdca26\"],[1.0,\"#f0f921\"]],\"type\":\"histogram2dcontour\"}],\"histogram2d\":[{\"colorbar\":{\"outlinewidth\":0,\"ticks\":\"\"},\"colorscale\":[[0.0,\"#0d0887\"],[0.1111111111111111,\"#46039f\"],[0.2222222222222222,\"#7201a8\"],[0.3333333333333333,\"#9c179e\"],[0.4444444444444444,\"#bd3786\"],[0.5555555555555556,\"#d8576b\"],[0.6666666666666666,\"#ed7953\"],[0.7777777777777778,\"#fb9f3a\"],[0.8888888888888888,\"#fdca26\"],[1.0,\"#f0f921\"]],\"type\":\"histogram2d\"}],\"histogram\":[{\"marker\":{\"colorbar\":{\"outlinewidth\":0,\"ticks\":\"\"}},\"type\":\"histogram\"}],\"mesh3d\":[{\"colorbar\":{\"outlinewidth\":0,\"ticks\":\"\"},\"type\":\"mesh3d\"}],\"parcoords\":[{\"line\":{\"colorbar\":{\"outlinewidth\":0,\"ticks\":\"\"}},\"type\":\"parcoords\"}],\"pie\":[{\"automargin\":true,\"type\":\"pie\"}],\"scatter3d\":[{\"line\":{\"colorbar\":{\"outlinewidth\":0,\"ticks\":\"\"}},\"marker\":{\"colorbar\":{\"outlinewidth\":0,\"ticks\":\"\"}},\"type\":\"scatter3d\"}],\"scattercarpet\":[{\"marker\":{\"colorbar\":{\"outlinewidth\":0,\"ticks\":\"\"}},\"type\":\"scattercarpet\"}],\"scattergeo\":[{\"marker\":{\"colorbar\":{\"outlinewidth\":0,\"ticks\":\"\"}},\"type\":\"scattergeo\"}],\"scattergl\":[{\"marker\":{\"colorbar\":{\"outlinewidth\":0,\"ticks\":\"\"}},\"type\":\"scattergl\"}],\"scattermapbox\":[{\"marker\":{\"colorbar\":{\"outlinewidth\":0,\"ticks\":\"\"}},\"type\":\"scattermapbox\"}],\"scatterpolargl\":[{\"marker\":{\"colorbar\":{\"outlinewidth\":0,\"ticks\":\"\"}},\"type\":\"scatterpolargl\"}],\"scatterpolar\":[{\"marker\":{\"colorbar\":{\"outlinewidth\":0,\"ticks\":\"\"}},\"type\":\"scatterpolar\"}],\"scatter\":[{\"marker\":{\"colorbar\":{\"outlinewidth\":0,\"ticks\":\"\"}},\"type\":\"scatter\"}],\"scatterternary\":[{\"marker\":{\"colorbar\":{\"outlinewidth\":0,\"ticks\":\"\"}},\"type\":\"scatterternary\"}],\"surface\":[{\"colorbar\":{\"outlinewidth\":0,\"ticks\":\"\"},\"colorscale\":[[0.0,\"#0d0887\"],[0.1111111111111111,\"#46039f\"],[0.2222222222222222,\"#7201a8\"],[0.3333333333333333,\"#9c179e\"],[0.4444444444444444,\"#bd3786\"],[0.5555555555555556,\"#d8576b\"],[0.6666666666666666,\"#ed7953\"],[0.7777777777777778,\"#fb9f3a\"],[0.8888888888888888,\"#fdca26\"],[1.0,\"#f0f921\"]],\"type\":\"surface\"}],\"table\":[{\"cells\":{\"fill\":{\"color\":\"#EBF0F8\"},\"line\":{\"color\":\"white\"}},\"header\":{\"fill\":{\"color\":\"#C8D4E3\"},\"line\":{\"color\":\"white\"}},\"type\":\"table\"}]},\"layout\":{\"annotationdefaults\":{\"arrowcolor\":\"#2a3f5f\",\"arrowhead\":0,\"arrowwidth\":1},\"coloraxis\":{\"colorbar\":{\"outlinewidth\":0,\"ticks\":\"\"}},\"colorscale\":{\"diverging\":[[0,\"#8e0152\"],[0.1,\"#c51b7d\"],[0.2,\"#de77ae\"],[0.3,\"#f1b6da\"],[0.4,\"#fde0ef\"],[0.5,\"#f7f7f7\"],[0.6,\"#e6f5d0\"],[0.7,\"#b8e186\"],[0.8,\"#7fbc41\"],[0.9,\"#4d9221\"],[1,\"#276419\"]],\"sequential\":[[0.0,\"#0d0887\"],[0.1111111111111111,\"#46039f\"],[0.2222222222222222,\"#7201a8\"],[0.3333333333333333,\"#9c179e\"],[0.4444444444444444,\"#bd3786\"],[0.5555555555555556,\"#d8576b\"],[0.6666666666666666,\"#ed7953\"],[0.7777777777777778,\"#fb9f3a\"],[0.8888888888888888,\"#fdca26\"],[1.0,\"#f0f921\"]],\"sequentialminus\":[[0.0,\"#0d0887\"],[0.1111111111111111,\"#46039f\"],[0.2222222222222222,\"#7201a8\"],[0.3333333333333333,\"#9c179e\"],[0.4444444444444444,\"#bd3786\"],[0.5555555555555556,\"#d8576b\"],[0.6666666666666666,\"#ed7953\"],[0.7777777777777778,\"#fb9f3a\"],[0.8888888888888888,\"#fdca26\"],[1.0,\"#f0f921\"]]},\"colorway\":[\"#1f77b4\",\"#ff7f0e\",\"#2ca02c\",\"#dc3912\",\"#9467bd\",\"#8c564b\",\"#e377c2\",\"#7f7f7f\",\"#bcbd22\",\"#17becf\"],\"font\":{\"color\":\"#2a3f5f\"},\"geo\":{\"bgcolor\":\"white\",\"lakecolor\":\"white\",\"landcolor\":\"#E5ECF6\",\"showlakes\":true,\"showland\":true,\"subunitcolor\":\"white\"},\"hoverlabel\":{\"align\":\"left\"},\"hovermode\":\"closest\",\"mapbox\":{\"style\":\"light\"},\"paper_bgcolor\":\"white\",\"plot_bgcolor\":\"#E5ECF6\",\"polar\":{\"angularaxis\":{\"gridcolor\":\"white\",\"linecolor\":\"white\",\"ticks\":\"\"},\"bgcolor\":\"#E5ECF6\",\"radialaxis\":{\"gridcolor\":\"white\",\"linecolor\":\"white\",\"ticks\":\"\"}},\"scene\":{\"xaxis\":{\"backgroundcolor\":\"#E5ECF6\",\"gridcolor\":\"white\",\"gridwidth\":2,\"linecolor\":\"white\",\"showbackground\":true,\"ticks\":\"\",\"zerolinecolor\":\"white\"},\"yaxis\":{\"backgroundcolor\":\"#E5ECF6\",\"gridcolor\":\"white\",\"gridwidth\":2,\"linecolor\":\"white\",\"showbackground\":true,\"ticks\":\"\",\"zerolinecolor\":\"white\"},\"zaxis\":{\"backgroundcolor\":\"#E5ECF6\",\"gridcolor\":\"white\",\"gridwidth\":2,\"linecolor\":\"white\",\"showbackground\":true,\"ticks\":\"\",\"zerolinecolor\":\"white\"}},\"shapedefaults\":{\"line\":{\"color\":\"#2a3f5f\"}},\"ternary\":{\"aaxis\":{\"gridcolor\":\"white\",\"linecolor\":\"white\",\"ticks\":\"\"},\"baxis\":{\"gridcolor\":\"white\",\"linecolor\":\"white\",\"ticks\":\"\"},\"bgcolor\":\"#E5ECF6\",\"caxis\":{\"gridcolor\":\"white\",\"linecolor\":\"white\",\"ticks\":\"\"}},\"title\":{\"x\":0.05},\"xaxis\":{\"automargin\":true,\"gridcolor\":\"white\",\"linecolor\":\"white\",\"ticks\":\"\",\"title\":{\"standoff\":15},\"zerolinecolor\":\"white\",\"zerolinewidth\":2},\"yaxis\":{\"automargin\":true,\"gridcolor\":\"white\",\"linecolor\":\"white\",\"ticks\":\"\",\"title\":{\"standoff\":15},\"zerolinecolor\":\"white\",\"zerolinewidth\":2}}},\"xaxis\":{\"anchor\":\"y\",\"domain\":[0.0,1.0],\"matches\":\"x3\",\"showticklabels\":false},\"yaxis\":{\"anchor\":\"x\",\"domain\":[0.6944444444444444,1.0],\"title\":{\"text\":\"Price\"}},\"xaxis2\":{\"anchor\":\"y2\",\"domain\":[0.0,1.0],\"matches\":\"x3\",\"showticklabels\":false},\"yaxis2\":{\"anchor\":\"x2\",\"domain\":[0.3472222222222222,0.6527777777777777],\"tickformat\":\".2%\",\"title\":{\"text\":\"Trade PnL\"}},\"xaxis3\":{\"anchor\":\"y3\",\"domain\":[0.0,1.0],\"title\":{\"text\":\"Index\"}},\"yaxis3\":{\"anchor\":\"x3\",\"domain\":[0.0,0.3055555555555555],\"title\":{\"text\":\"Cumulative returns\"}},\"margin\":{\"t\":30,\"b\":30,\"l\":30,\"r\":30},\"legend\":{\"orientation\":\"h\",\"yanchor\":\"bottom\",\"y\":1.0416666666666667,\"xanchor\":\"right\",\"x\":1,\"traceorder\":\"normal\"},\"width\":750,\"height\":960,\"showlegend\":true,\"shapes\":[{\"line\":{\"color\":\"gray\",\"dash\":\"dash\"},\"type\":\"line\",\"x0\":0.0,\"x1\":1.0,\"xref\":\"paper\",\"y0\":0,\"y1\":0,\"yref\":\"y2\"},{\"line\":{\"color\":\"gray\",\"dash\":\"dash\"},\"type\":\"line\",\"x0\":0.0,\"x1\":1.0,\"xref\":\"paper\",\"y0\":1,\"y1\":1,\"yref\":\"y3\"}]},                        {\"responsive\": true}                    ).then(function(){\n",
       "                            \n",
       "var gd = document.getElementById('0bebec94-de03-4845-bfe5-14ce95a58a40');\n",
       "var x = new MutationObserver(function (mutations, observer) {{\n",
       "        var display = window.getComputedStyle(gd).display;\n",
       "        if (!display || display === 'none') {{\n",
       "            console.log([gd, 'removed!']);\n",
       "            Plotly.purge(gd);\n",
       "            observer.disconnect();\n",
       "        }}\n",
       "}});\n",
       "\n",
       "// Listen for the removal of the full notebook cells\n",
       "var notebookContainer = gd.closest('#notebook-container');\n",
       "if (notebookContainer) {{\n",
       "    x.observe(notebookContainer, {childList: true});\n",
       "}}\n",
       "\n",
       "// Listen for the clearing of the current output cell\n",
       "var outputEl = gd.closest('.output');\n",
       "if (outputEl) {{\n",
       "    x.observe(outputEl, {childList: true});\n",
       "}}\n",
       "\n",
       "                        })                };                });            </script>        </div>"
      ]
     },
     "metadata": {},
     "output_type": "display_data"
    }
   ],
   "source": [
    "import talib\n",
    "from pathlib import Path\n",
    "import vectorbt as vbt\n",
    "import os\n",
    "import pandas as pd\n",
    "import yfinance as yf\n",
    "import numpy as np\n",
    "\n",
    "class MultiStockBacktester:\n",
    "    def __init__(self, symbols, start_date, end_date, data_path='stock_data.parquet'):\n",
    "        self.symbols = symbols\n",
    "        self.start_date = start_date\n",
    "        self.end_date = end_date\n",
    "        self.data_path = data_path\n",
    "        self.data = {}\n",
    "        self.signals = {}\n",
    "        self.results = {}\n",
    "\n",
    "    def load_or_fetch_data(self, force_download=False):\n",
    "        \"\"\"Load data from parquet file if it exists, otherwise fetch from Yahoo Finance.\"\"\"\n",
    "        if not force_download and os.path.exists(self.data_path):\n",
    "            print(\"Loading data from parquet file...\")\n",
    "            # Load the multi-index DataFrame\n",
    "            combined_df = pd.read_parquet(self.data_path)\n",
    "            \n",
    "            # Store individual DataFrames for each symbol with proper column structure\n",
    "            for symbol in self.symbols:\n",
    "                symbol_data = pd.DataFrame()\n",
    "                symbol_data['Close'] = combined_df[('Close', symbol)]\n",
    "                symbol_data['High'] = combined_df[('High', symbol)]\n",
    "                symbol_data['Low'] = combined_df[('Low', symbol)]\n",
    "                symbol_data['Volume'] = combined_df[('Volume', symbol)]\n",
    "                symbol_data['Open'] = combined_df[('Open', symbol)]\n",
    "                symbol_data['Adj Close'] = combined_df[('Adj Close', symbol)]\n",
    "                self.data[symbol] = symbol_data\n",
    "            \n",
    "        else:\n",
    "            print(\"Fetching data from Yahoo Finance...\")\n",
    "            # Create an empty list to store DataFrames\n",
    "            dfs = []\n",
    "            \n",
    "            # Download data for each symbol\n",
    "            #for symbol in self.symbols:\n",
    "            #    df = yf.download(symbol, start=self.start_date, end=self.end_date)\n",
    "                # Add symbol to column names\n",
    "                #df.columns = pd.MultiIndex.from_product([[col for col in df.columns], [symbol]])\n",
    "            #    df['Symbol']=symbol\n",
    "            #    df=df.set_index(['Symbol',df.index])\n",
    "            #    dfs.append(df)\n",
    "            combined_df = yf.download(self.symbols, start=self.start_date, end=self.end_date)\n",
    "            # Combine all DataFrames\n",
    "            #combined_df = pd.concat(dfs, axis=1)\n",
    "            \n",
    "            # Save to parquet\n",
    "            #combined_df.to_parquet(self.data_path)\n",
    "            combined_df.to_parquet(self.data_path)\n",
    "            print(f\"Data saved to {self.data_path}\")\n",
    "            \n",
    "            # Store individual DataFrames for each symbol\n",
    "            for symbol in self.symbols:\n",
    "                symbol_data = pd.DataFrame()\n",
    "                symbol_data['Close'] = combined_df[('Close', symbol)]\n",
    "                symbol_data['High'] = combined_df[('High', symbol)]\n",
    "                symbol_data['Low'] = combined_df[('Low', symbol)]\n",
    "                symbol_data['Volume'] = combined_df[('Volume', symbol)]\n",
    "                symbol_data['Open'] = combined_df[('Open', symbol)]\n",
    "                symbol_data['Adj Close'] = combined_df[('Adj Close', symbol)]\n",
    "                self.data[symbol] = symbol_data\n",
    "\n",
    "    def calculate_indicators(self):\n",
    "        \"\"\"Calculate technical indicators for each symbol.\"\"\"\n",
    "        for symbol, df in self.data.items():\n",
    "            print(f\"\\nProcessing {symbol}:\")\n",
    "            \n",
    "            # Ensure data is clean and sorted\n",
    "            df = df.sort_index()\n",
    "            \n",
    "            # Print data info for debugging\n",
    "            print(f\"DataFrame shape: {df.shape}\")\n",
    "            print(\"Column names:\", df.columns.tolist())\n",
    "            \n",
    "            try:\n",
    "                # Convert to numpy arrays and ensure correct dtype\n",
    "                close = df['Close'].astype(float).to_numpy()\n",
    "                high = df['High'].astype(float).to_numpy()\n",
    "                low = df['Low'].astype(float).to_numpy()\n",
    "                volume = df['Volume'].astype(float).to_numpy()\n",
    "                \n",
    "                # Print array shapes for debugging\n",
    "                print(f\"Array shapes:\")\n",
    "                print(f\"Close: {close.shape}\")\n",
    "                print(f\"High: {high.shape}\")\n",
    "                print(f\"Low: {low.shape}\")\n",
    "                print(f\"Volume: {volume.shape}\")\n",
    "                \n",
    "                # Calculate indicators\n",
    "                macd, macd_signal, _ = talib.MACD(close)\n",
    "                rsi = talib.RSI(close)\n",
    "                obv = talib.OBV(close, volume)\n",
    "                slowk, slowd = talib.STOCH(high, low, close)\n",
    "                \n",
    "                # Store results\n",
    "                self.signals[symbol] = {\n",
    "                    'macd': pd.Series(macd, index=df.index),\n",
    "                    'macd_signal': pd.Series(macd_signal, index=df.index),\n",
    "                    'rsi': pd.Series(rsi, index=df.index),\n",
    "                    'obv': pd.Series(obv, index=df.index),\n",
    "                    'slowk': pd.Series(slowk, index=df.index),\n",
    "                    'slowd': pd.Series(slowd, index=df.index)\n",
    "                }\n",
    "                \n",
    "                print(f\"All indicators calculated successfully for {symbol}\")\n",
    "                \n",
    "            except Exception as e:\n",
    "                print(f\"Error calculating indicators for {symbol}: {str(e)}\")\n",
    "                continue\n",
    "\n",
    "    def generate_entry_signals(self):\n",
    "        \"\"\"Generate combined entry signals based on multiple indicators.\"\"\"\n",
    "        for symbol in self.symbols:\n",
    "            if symbol not in self.signals:\n",
    "                continue\n",
    "                    \n",
    "            signals = self.signals[symbol]\n",
    "            \n",
    "            # Handle NaN values\n",
    "            macd = signals['macd'].fillna(0)\n",
    "            macd_signal = signals['macd_signal'].fillna(0)\n",
    "            rsi = signals['rsi'].fillna(0)\n",
    "            slowk = signals['slowk'].fillna(0)\n",
    "            slowd = signals['slowd'].fillna(0)\n",
    "            obv = signals['obv'].fillna(0)\n",
    "            \n",
    "            # MACD crossover\n",
    "            macd_cross = (macd > macd_signal) & (macd.shift(1) <= macd_signal.shift(1))\n",
    "            \n",
    "            # RSI conditions\n",
    "            rsi_buy = rsi < 50\n",
    "            \n",
    "            # Stochastic conditions\n",
    "            stoch_buy = (slowk < 40) & (slowd < 40)\n",
    "            \n",
    "            # OBV trend\n",
    "            obv_sma = obv.rolling(window=20, min_periods=1).mean()\n",
    "            obv_trend = obv > obv_sma\n",
    "            \n",
    "            # Combined signal\n",
    "            #entry_signal = macd_cross & rsi_buy & stoch_buy & obv_trend\n",
    "            entry_signal = macd_cross & obv_trend\n",
    "            \n",
    "            # Clean up signal and ensure proper boolean array\n",
    "            entry_signal = entry_signal.fillna(False).astype(bool).values\n",
    "            \n",
    "            # Get signal and exit array shape\n",
    "            signal_shape = (len(entry_signal),)\n",
    "            # Create clean entry signals using VectorBT\n",
    "            entry_signal = vbt.signals.nb.clean_enex_1d_nb(\n",
    "                entry_signal,  # raw entry signals\n",
    "                np.full(signal_shape, False),  # exit signals (none for entries)\n",
    "                #np.full(signal_shape, False)  # generate multiple entries (disabled)\n",
    "                False\n",
    "            )\n",
    "            \n",
    "            self.signals[symbol]['entry'] = entry_signal\n",
    "                \n",
    "    def generate_exit_signals(self):\n",
    "        \"\"\"Generate exit signals based on indicator conditions.\"\"\"\n",
    "        for symbol in self.symbols:\n",
    "            if symbol not in self.signals:\n",
    "                continue\n",
    "                    \n",
    "            signals = self.signals[symbol]\n",
    "            \n",
    "            # Handle NaN values\n",
    "            rsi = signals['rsi'].fillna(0)\n",
    "            slowk = signals['slowk'].fillna(0)\n",
    "            slowd = signals['slowd'].fillna(0)\n",
    "            macd = signals['macd'].fillna(0)\n",
    "            macd_signal = signals['macd_signal'].fillna(0)\n",
    "            \n",
    "            # Exit conditions\n",
    "            rsi_sell = rsi > 60\n",
    "            stoch_sell = (slowk > 70) & (slowd > 70)\n",
    "            macd_cross_below = (macd < macd_signal) & (macd.shift(1) >= macd_signal.shift(1))\n",
    "            \n",
    "            # Combined exit signal\n",
    "            exit_signal = rsi_sell | stoch_sell | macd_cross_below\n",
    "            \n",
    "            # Clean up signal and ensure proper boolean array\n",
    "            exit_signal = exit_signal.fillna(False).astype(bool).values\n",
    "            \n",
    "            # Get signal array shape\n",
    "            signal_shape = (len(exit_signal),)\n",
    "            # Create clean exit signals using VectorBT\n",
    "            exit_signal = vbt.signals.nb.clean_enex_1d_nb(\n",
    "                np.full(signal_shape, False),  # entry signals (none for exits)\n",
    "                exit_signal,  # raw exit signals\n",
    "                #np.full(signal_shape, False)  # generate multiple exits (disabled)\n",
    "                True     \n",
    "            )\n",
    "            \n",
    "            self.signals[symbol]['exit'] = exit_signal\n",
    "\n",
    "    def run_backtest(self, initial_capital=100000, fee_rate=0.001):\n",
    "        for symbol in self.symbols:\n",
    "            if symbol not in self.signals:\n",
    "                continue\n",
    "\n",
    "            price = self.data[symbol]['Close'].to_numpy()\n",
    "            entries = self.signals[symbol]['entry']\n",
    "            exits = self.signals[symbol]['exit']\n",
    "            print(\"price\")\n",
    "            print(price)\n",
    "            print(\"entry\")\n",
    "            print(entries)\n",
    "            print(\"exit\")\n",
    "            print(exits)\n",
    "            portfolio = vbt.Portfolio.from_signals(\n",
    "                price,\n",
    "                entries,\n",
    "                exits,\n",
    "                init_cash=initial_capital,\n",
    "                fees=fee_rate,\n",
    "                freq='1D'\n",
    "            )\n",
    "\n",
    "            metrics = {\n",
    "                'total_return': portfolio.total_return(),\n",
    "                'sharpe_ratio': portfolio.sharpe_ratio(),\n",
    "                'max_drawdown': portfolio.max_drawdown(),\n",
    "                'win_rate': portfolio.trades.win_rate(),\n",
    "                'profit_factor': portfolio.trades.profit_factor(),\n",
    "                #'num_trades': portfolio.trades.num_trades()\n",
    "            }\n",
    "\n",
    "            self.results[symbol] = {\n",
    "                'portfolio': portfolio,\n",
    "                'metrics': metrics\n",
    "            }\n",
    "\n",
    "    def get_summary(self):\n",
    "        summary = []\n",
    "        for symbol in self.symbols:\n",
    "            if symbol in self.results:\n",
    "                metrics = self.results[symbol]['metrics'].copy()\n",
    "                metrics['symbol'] = symbol\n",
    "                summary.append(metrics)\n",
    "        if not summary:\n",
    "            return pd.DataFrame()\n",
    "        return pd.DataFrame(summary).set_index('symbol')\n",
    "\n",
    "def run_example():\n",
    "    symbols = ['AAPL', 'MSFT', 'GOOGL']\n",
    "    backtester = MultiStockBacktester(\n",
    "        symbols=symbols,\n",
    "        start_date='2020-01-01',\n",
    "        end_date='2023-12-31',\n",
    "        data_path='stock_data.parquet'\n",
    "    )\n",
    "\n",
    "    # Run analysis\n",
    "    backtester.load_or_fetch_data(force_download=False)\n",
    "    backtester.calculate_indicators()\n",
    "    backtester.generate_entry_signals()\n",
    "    backtester.generate_exit_signals()\n",
    "    backtester.run_backtest(initial_capital=100000)\n",
    "\n",
    "    # Get results\n",
    "    summary = backtester.get_summary()\n",
    "    print(\"\\nBacktest Results Summary:\")\n",
    "    print(summary)\n",
    "\n",
    "    # Plot results for each symbol\n",
    "    for symbol in symbols:\n",
    "        if symbol in backtester.results:\n",
    "            portfolio = backtester.results[symbol]['portfolio']\n",
    "            portfolio.plot(column=0).show()\n",
    "\n",
    "if __name__ == \"__main__\":\n",
    "    run_example()"
   ]
  },
  {
   "cell_type": "code",
   "execution_count": 131,
   "id": "ab3576c6-15cf-4a5f-ac57-577d2d4868e8",
   "metadata": {
    "scrolled": true
   },
   "outputs": [
    {
     "name": "stderr",
     "output_type": "stream",
     "text": [
      "[*********************100%***********************]  4 of 4 completed\n",
      "C:\\Users\\mswas\\AppData\\Local\\Temp\\ipykernel_31132\\1730743630.py:38: FutureWarning:\n",
      "\n",
      "Setting an item of incompatible dtype is deprecated and will raise an error in a future version of pandas. Value '-1' has dtype incompatible with bool, please explicitly cast to a compatible dtype first.\n",
      "\n"
     ]
    },
    {
     "name": "stdout",
     "output_type": "stream",
     "text": [
      "          0      1      2      3\n",
      "0     False  False  False  False\n",
      "1     False  False  False  False\n",
      "2     False  False  False  False\n",
      "3     False  False  False  False\n",
      "4     False  False  False  False\n",
      "...     ...    ...    ...    ...\n",
      "1001  False     -1     -1  False\n",
      "1002  False     -1     -1  False\n",
      "1003  False     -1     -1  False\n",
      "1004  False     -1     -1     -1\n",
      "1005  False     -1  False     -1\n",
      "\n",
      "[1006 rows x 4 columns]\n",
      "\n",
      "Portfolio Performance Metrics:\n",
      "======================\n",
      "Total Return: comb_window  Ticker\n",
      "14           AAPL      0.177741\n",
      "             AMZN      0.077991\n",
      "             GOOG     -0.113293\n",
      "             MSFT     -0.016901\n",
      "Name: total_return, dtype: float64\n",
      "Sharpe Ratio: comb_window  Ticker\n",
      "14           AAPL      1.048181\n",
      "             AMZN      0.499966\n",
      "             GOOG     -0.611197\n",
      "             MSFT     -0.091014\n",
      "Name: sharpe_ratio, dtype: float64\n",
      "Max Drawdown: comb_window  Ticker\n",
      "14           AAPL     -0.032145\n",
      "             AMZN     -0.066872\n",
      "             GOOG     -0.140731\n",
      "             MSFT     -0.060666\n",
      "Name: max_drawdown, dtype: float64\n",
      "Annual Volatility: comb_window  Ticker\n",
      "14           AAPL      0.058236\n",
      "             AMZN      0.057856\n",
      "             GOOG      0.067580\n",
      "             MSFT      0.052545\n",
      "Name: annualized_volatility, dtype: float64\n"
     ]
    },
    {
     "data": {
      "text/plain": [
       "<Axes: title={'center': 'Individual Asset Performance (Normalized)'}, xlabel='Date'>"
      ]
     },
     "execution_count": 131,
     "metadata": {},
     "output_type": "execute_result"
    },
    {
     "data": {
      "image/png": "[encoded data removed]",
      "text/plain": [
       "<Figure size 1200x600 with 1 Axes>"
      ]
     },
     "metadata": {},
     "output_type": "display_data"
    }
   ],
   "source": [
    "import yfinance as yf\n",
    "import numpy as np\n",
    "import talib as tl\n",
    "import vectorbt as vbt\n",
    "import pandas as pd\n",
    "\n",
    "# Download historical data for multiple assets\n",
    "symbols = ['AAPL', 'MSFT', 'GOOG', 'AMZN']\n",
    "start_date = '2020-01-01'\n",
    "end_date = '2024-01-01'\n",
    "\n",
    "data = yf.download(symbols, start=start_date, end=end_date)\n",
    "#data=data.stack(level=1,future_stack=True)\n",
    "\n",
    "tama=vbt.IndicatorFactory.from_talib('MACD')\n",
    "taobv=vbt.IndicatorFactory.from_talib('OBV')\n",
    "tast=vbt.IndicatorFactory.from_talib('STOCH')\n",
    "\n",
    "def cust_ind(high,low,close,vol,win):\n",
    "    #macd, sig, his= tama.run(close,fastperiod=10,slowperiod=20,signalperiod=6)\n",
    "    #slowk, slowd=tast.run(high,low,close)\n",
    "    #macd=tama.run(close,fastperiod=10,slowperiod=20,signalperiod=6)\n",
    "    #stoch = tast.run(high,low,close)\n",
    "    #obv = taobv.run(close, vol)\n",
    "    macd,sig = vbt.MACD.run(close,fast_window=6,slow_window=18,hide_params=['fast_window','slow_window']).macd, vbt.MACD.run(close,fast_window=6,slow_window=18,hide_params=['fast_window','slow_window']).signal\n",
    "    obv=vbt.OBV.run(close,vol).obv\n",
    "    obv_sma = obv.rolling(window=6, min_periods=1).mean()\n",
    "    obv_trend = obv > obv_sma\n",
    "    slowk, slowd=vbt.STOCH.run(high,low,close).percent_k,vbt.STOCH.run(high,low,close).percent_d\n",
    "    macd_cross = (macd > sig) & (macd.shift(1) <= sig.shift(1))\n",
    "    stoch_buy = (slowk < 30) & (slowd < 30)\n",
    "    stoch_sell = (slowk >= 80) | (slowd >= 80)\n",
    "    macd_below = (macd < sig) & (macd.shift(1) >= sig.shift(1))\n",
    "    #print(macd_cross.reset_index(drop=True))\n",
    "    #print(stoch_buy)\n",
    "    trend = macd_cross & stoch_buy & obv_trend\n",
    "    ex = stoch_sell | macd_below\n",
    "    trend[ex] = -1\n",
    "    print(trend)\n",
    "    return trend\n",
    "\n",
    "ind=vbt.IndicatorFactory(class_name=\"Combination\",short_name=\"comb\",input_names=['high','low','close','volume'],param_names=['window'],\n",
    "        output_names=['value']).from_apply_func(cust_ind)\n",
    "\n",
    "res=ind.run(data['High'],data['Low'],data['Close'],data['Volume'],14)\n",
    "\n",
    "entries = res.value == 1\n",
    "exit = res.value == -1\n",
    "\n",
    "# Calculate returns\n",
    "returns = data.pct_change()\n",
    "weights = pd.Series([0.25, 0.25, 0.25, 0.25], index=symbols)\n",
    "normalized_data = data / data.iloc[0] * 100\n",
    "portfolio_value = (normalized_data['Close'] * weights).sum(axis=1)\n",
    "portfolio = vbt.Portfolio.from_signals(close=portfolio_value,entries= entries,exits=exit,init_cash=10000,freq='1D')\n",
    "\n",
    "# Create visualization\n",
    "fig = portfolio.plot(title='Multi-Asset Portfolio Performance',template='plotly_white',column=(14,'MSFT'),)\n",
    "\n",
    "# Customize layout\n",
    "fig.update_layout(height=1000,width=1200,showlegend=True)\n",
    "\n",
    "# Display performance metrics\n",
    "print(\"\\nPortfolio Performance Metrics:\")\n",
    "print(\"======================\")\n",
    "print(f\"Total Return: {portfolio.total_return()}\")\n",
    "print(f\"Sharpe Ratio: {portfolio.sharpe_ratio()}\")\n",
    "print(f\"Max Drawdown: {portfolio.max_drawdown()}\")\n",
    "print(f\"Annual Volatility: {portfolio.annualized_volatility()}\")\n",
    "\n",
    "# To see individual asset performance, we can also plot the normalized prices\n",
    "normalized_data['Close'].plot(title='Individual Asset Performance (Normalized)', figsize=(12, 6))"
   ]
  },
  {
   "cell_type": "code",
   "execution_count": 132,
   "id": "936d3702-5cb1-4ad0-bb8e-f4c6368bca5e",
   "metadata": {},
   "outputs": [
    {
     "data": {
      "text/html": [
       "<div>\n",
       "<style scoped>\n",
       "    .dataframe tbody tr th:only-of-type {\n",
       "        vertical-align: middle;\n",
       "    }\n",
       "\n",
       "    .dataframe tbody tr th {\n",
       "        vertical-align: top;\n",
       "    }\n",
       "\n",
       "    .dataframe thead th {\n",
       "        text-align: right;\n",
       "    }\n",
       "</style>\n",
       "<table border=\"1\" class=\"dataframe\">\n",
       "  <thead>\n",
       "    <tr style=\"text-align: right;\">\n",
       "      <th></th>\n",
       "      <th></th>\n",
       "      <th>Start</th>\n",
       "      <th>End</th>\n",
       "      <th>Period</th>\n",
       "      <th>Start Value</th>\n",
       "      <th>End Value</th>\n",
       "      <th>Total Return [%]</th>\n",
       "      <th>Benchmark Return [%]</th>\n",
       "      <th>Max Gross Exposure [%]</th>\n",
       "      <th>Total Fees Paid</th>\n",
       "      <th>Max Drawdown [%]</th>\n",
       "      <th>...</th>\n",
       "      <th>Avg Winning Trade [%]</th>\n",
       "      <th>Avg Losing Trade [%]</th>\n",
       "      <th>Avg Winning Trade Duration</th>\n",
       "      <th>Avg Losing Trade Duration</th>\n",
       "      <th>Profit Factor</th>\n",
       "      <th>Expectancy</th>\n",
       "      <th>Sharpe Ratio</th>\n",
       "      <th>Calmar Ratio</th>\n",
       "      <th>Omega Ratio</th>\n",
       "      <th>Sortino Ratio</th>\n",
       "    </tr>\n",
       "    <tr>\n",
       "      <th>comb_window</th>\n",
       "      <th>Ticker</th>\n",
       "      <th></th>\n",
       "      <th></th>\n",
       "      <th></th>\n",
       "      <th></th>\n",
       "      <th></th>\n",
       "      <th></th>\n",
       "      <th></th>\n",
       "      <th></th>\n",
       "      <th></th>\n",
       "      <th></th>\n",
       "      <th></th>\n",
       "      <th></th>\n",
       "      <th></th>\n",
       "      <th></th>\n",
       "      <th></th>\n",
       "      <th></th>\n",
       "      <th></th>\n",
       "      <th></th>\n",
       "      <th></th>\n",
       "      <th></th>\n",
       "      <th></th>\n",
       "    </tr>\n",
       "  </thead>\n",
       "  <tbody>\n",
       "    <tr>\n",
       "      <th rowspan=\"4\" valign=\"top\">14</th>\n",
       "      <th>AAPL</th>\n",
       "      <td>2020-01-02</td>\n",
       "      <td>2023-12-29</td>\n",
       "      <td>1006 days</td>\n",
       "      <td>10000.0</td>\n",
       "      <td>11777.405913</td>\n",
       "      <td>17.774059</td>\n",
       "      <td>114.190698</td>\n",
       "      <td>100.0</td>\n",
       "      <td>0.0</td>\n",
       "      <td>3.214475</td>\n",
       "      <td>...</td>\n",
       "      <td>4.184779</td>\n",
       "      <td>NaN</td>\n",
       "      <td>7 days</td>\n",
       "      <td>NaT</td>\n",
       "      <td>inf</td>\n",
       "      <td>444.351478</td>\n",
       "      <td>1.048181</td>\n",
       "      <td>1.902459</td>\n",
       "      <td>2.385015</td>\n",
       "      <td>1.974547</td>\n",
       "    </tr>\n",
       "    <tr>\n",
       "      <th>AMZN</th>\n",
       "      <td>2020-01-02</td>\n",
       "      <td>2023-12-29</td>\n",
       "      <td>1006 days</td>\n",
       "      <td>10000.0</td>\n",
       "      <td>10779.910054</td>\n",
       "      <td>7.799101</td>\n",
       "      <td>114.190698</td>\n",
       "      <td>100.0</td>\n",
       "      <td>0.0</td>\n",
       "      <td>6.687163</td>\n",
       "      <td>...</td>\n",
       "      <td>2.546410</td>\n",
       "      <td>NaN</td>\n",
       "      <td>6 days</td>\n",
       "      <td>NaT</td>\n",
       "      <td>inf</td>\n",
       "      <td>259.970018</td>\n",
       "      <td>0.499966</td>\n",
       "      <td>0.413065</td>\n",
       "      <td>1.598937</td>\n",
       "      <td>0.744244</td>\n",
       "    </tr>\n",
       "    <tr>\n",
       "      <th>MSFT</th>\n",
       "      <td>2020-01-02</td>\n",
       "      <td>2023-12-29</td>\n",
       "      <td>1006 days</td>\n",
       "      <td>10000.0</td>\n",
       "      <td>9830.988312</td>\n",
       "      <td>-1.690117</td>\n",
       "      <td>114.190698</td>\n",
       "      <td>100.0</td>\n",
       "      <td>0.0</td>\n",
       "      <td>6.066626</td>\n",
       "      <td>...</td>\n",
       "      <td>NaN</td>\n",
       "      <td>-1.690117</td>\n",
       "      <td>NaT</td>\n",
       "      <td>7 days</td>\n",
       "      <td>0.0</td>\n",
       "      <td>-169.011688</td>\n",
       "      <td>-0.091014</td>\n",
       "      <td>-0.101629</td>\n",
       "      <td>0.864633</td>\n",
       "      <td>-0.112459</td>\n",
       "    </tr>\n",
       "    <tr>\n",
       "      <th>GOOG</th>\n",
       "      <td>2020-01-02</td>\n",
       "      <td>2023-12-29</td>\n",
       "      <td>1006 days</td>\n",
       "      <td>10000.0</td>\n",
       "      <td>8867.074140</td>\n",
       "      <td>-11.329259</td>\n",
       "      <td>114.190698</td>\n",
       "      <td>100.0</td>\n",
       "      <td>0.0</td>\n",
       "      <td>14.073091</td>\n",
       "      <td>...</td>\n",
       "      <td>NaN</td>\n",
       "      <td>-11.329259</td>\n",
       "      <td>NaT</td>\n",
       "      <td>15 days</td>\n",
       "      <td>0.0</td>\n",
       "      <td>-1132.925860</td>\n",
       "      <td>-0.611197</td>\n",
       "      <td>-0.303331</td>\n",
       "      <td>0.531492</td>\n",
       "      <td>-0.722940</td>\n",
       "    </tr>\n",
       "  </tbody>\n",
       "</table>\n",
       "<p>4 rows × 28 columns</p>\n",
       "</div>"
      ],
      "text/plain": [
       "                        Start        End    Period  Start Value     End Value  \\\n",
       "comb_window Ticker                                                              \n",
       "14          AAPL   2020-01-02 2023-12-29 1006 days      10000.0  11777.405913   \n",
       "            AMZN   2020-01-02 2023-12-29 1006 days      10000.0  10779.910054   \n",
       "            MSFT   2020-01-02 2023-12-29 1006 days      10000.0   9830.988312   \n",
       "            GOOG   2020-01-02 2023-12-29 1006 days      10000.0   8867.074140   \n",
       "\n",
       "                    Total Return [%]  Benchmark Return [%]  \\\n",
       "comb_window Ticker                                           \n",
       "14          AAPL           17.774059            114.190698   \n",
       "            AMZN            7.799101            114.190698   \n",
       "            MSFT           -1.690117            114.190698   \n",
       "            GOOG          -11.329259            114.190698   \n",
       "\n",
       "                    Max Gross Exposure [%]  Total Fees Paid  Max Drawdown [%]  \\\n",
       "comb_window Ticker                                                              \n",
       "14          AAPL                     100.0              0.0          3.214475   \n",
       "            AMZN                     100.0              0.0          6.687163   \n",
       "            MSFT                     100.0              0.0          6.066626   \n",
       "            GOOG                     100.0              0.0         14.073091   \n",
       "\n",
       "                    ... Avg Winning Trade [%]  Avg Losing Trade [%]  \\\n",
       "comb_window Ticker  ...                                               \n",
       "14          AAPL    ...              4.184779                   NaN   \n",
       "            AMZN    ...              2.546410                   NaN   \n",
       "            MSFT    ...                   NaN             -1.690117   \n",
       "            GOOG    ...                   NaN            -11.329259   \n",
       "\n",
       "                    Avg Winning Trade Duration  Avg Losing Trade Duration  \\\n",
       "comb_window Ticker                                                          \n",
       "14          AAPL                        7 days                        NaT   \n",
       "            AMZN                        6 days                        NaT   \n",
       "            MSFT                           NaT                     7 days   \n",
       "            GOOG                           NaT                    15 days   \n",
       "\n",
       "                    Profit Factor   Expectancy  Sharpe Ratio  Calmar Ratio  \\\n",
       "comb_window Ticker                                                           \n",
       "14          AAPL              inf   444.351478      1.048181      1.902459   \n",
       "            AMZN              inf   259.970018      0.499966      0.413065   \n",
       "            MSFT              0.0  -169.011688     -0.091014     -0.101629   \n",
       "            GOOG              0.0 -1132.925860     -0.611197     -0.303331   \n",
       "\n",
       "                    Omega Ratio  Sortino Ratio  \n",
       "comb_window Ticker                              \n",
       "14          AAPL       2.385015       1.974547  \n",
       "            AMZN       1.598937       0.744244  \n",
       "            MSFT       0.864633      -0.112459  \n",
       "            GOOG       0.531492      -0.722940  \n",
       "\n",
       "[4 rows x 28 columns]"
      ]
     },
     "execution_count": 132,
     "metadata": {},
     "output_type": "execute_result"
    }
   ],
   "source": [
    "portfolio.stats(agg_func=None).sort_values('Sharpe Ratio', ascending=False)"
   ]
  },
  {
   "cell_type": "code",
   "execution_count": 134,
   "id": "be9beac9-a9e2-433f-b4a3-f91de8c423aa",
   "metadata": {},
   "outputs": [
    {
     "data": {
      "application/vnd.jupyter.widget-view+json": {
       "model_id": "68b90ad0ce474165b1cd4b33e478344a",
       "version_major": 2,
       "version_minor": 0
      },
      "text/plain": [
       "FigureWidget({\n",
       "    'data': [{'legendgroup': '0',\n",
       "              'line': {'color': '#1f77b4'},\n",
       "              'name': 'Close',\n",
       "              'showlegend': True,\n",
       "              'type': 'scatter',\n",
       "              'uid': '537902f4-364c-445b-9c5b-ab4f4300a6d7',\n",
       "              'x': array([datetime.datetime(2020, 1, 2, 0, 0),\n",
       "                          datetime.datetime(2020, 1, 3, 0, 0),\n",
       "                          datetime.datetime(2020, 1, 6, 0, 0), ...,\n",
       "                          datetime.datetime(2023, 12, 27, 0, 0),\n",
       "                          datetime.datetime(2023, 12, 28, 0, 0),\n",
       "                          datetime.datetime(2023, 12, 29, 0, 0)], dtype=object),\n",
       "              'xaxis': 'x',\n",
       "              'y': array([100.        ,  99.01949777, 100.26161078, ..., 214.6457965 ,\n",
       "                          214.92932862, 214.19069813]),\n",
       "              'yaxis': 'y'},\n",
       "             {'customdata': array([[ 0.        , 74.88014969,  0.        ],\n",
       "                                   [ 2.        , 70.42447745,  0.        ],\n",
       "                                   [ 4.        , 82.46074603,  0.        ],\n",
       "                                   [ 6.        , 60.56182186,  0.        ]]),\n",
       "              'hovertemplate': ('Order Id: %{customdata[0]}<br>' ... '<br>Fees: %{customdata[2]:.6f}'),\n",
       "              'legendgroup': '1',\n",
       "              'marker': {'color': '#37B13F',\n",
       "                         'line': {'color': 'rgb(38,123,44)', 'width': 1},\n",
       "                         'size': 8,\n",
       "                         'symbol': 'triangle-up'},\n",
       "              'mode': 'markers',\n",
       "              'name': 'Buy',\n",
       "              'type': 'scatter',\n",
       "              'uid': '305ffad5-c41d-42b9-9bc1-47ee1ba4ddc3',\n",
       "              'x': array([datetime.datetime(2020, 9, 24, 0, 0),\n",
       "                          datetime.datetime(2022, 10, 10, 0, 0),\n",
       "                          datetime.datetime(2023, 1, 4, 0, 0),\n",
       "                          datetime.datetime(2023, 9, 25, 0, 0)], dtype=object),\n",
       "              'xaxis': 'x',\n",
       "              'y': array([133.54674158, 148.47352658, 132.596555  , 190.96000959]),\n",
       "              'yaxis': 'y'},\n",
       "             {'customdata': array([[ 1.        , 74.88014969,  0.        ],\n",
       "                                   [ 3.        , 70.42447745,  0.        ],\n",
       "                                   [ 5.        , 82.46074603,  0.        ],\n",
       "                                   [ 7.        , 60.56182186,  0.        ]]),\n",
       "              'hovertemplate': ('Order Id: %{customdata[0]}<br>' ... '<br>Fees: %{customdata[2]:.6f}'),\n",
       "              'legendgroup': '2',\n",
       "              'marker': {'color': '#EA4335',\n",
       "                         'line': {'color': 'rgb(181,31,18)', 'width': 1},\n",
       "                         'size': 8,\n",
       "                         'symbol': 'triangle-down'},\n",
       "              'mode': 'markers',\n",
       "              'name': 'Sell',\n",
       "              'type': 'scatter',\n",
       "              'uid': 'f7f083ea-0b14-4b46-9876-ea43f055eb5a',\n",
       "              'x': array([datetime.datetime(2020, 9, 30, 0, 0),\n",
       "                          datetime.datetime(2022, 10, 21, 0, 0),\n",
       "                          datetime.datetime(2023, 1, 12, 0, 0),\n",
       "                          datetime.datetime(2023, 10, 6, 0, 0)], dtype=object),\n",
       "              'xaxis': 'x',\n",
       "              'y': array([139.63875031, 155.258672  , 140.24716777, 194.46914824]),\n",
       "              'yaxis': 'y'},\n",
       "             {'customdata': array([[0.00000000e+00, 0.00000000e+00, 4.56170526e+02, 4.56170526e-02],\n",
       "                                   [1.00000000e+00, 1.00000000e+00, 4.77840320e+02, 4.56993618e-02],\n",
       "                                   [2.00000000e+00, 2.00000000e+00, 6.30875237e+02, 5.76984280e-02],\n",
       "                                   [3.00000000e+00, 3.00000000e+00, 2.12519830e+02, 1.83763012e-02]]),\n",
       "              'hovertemplate': ('Exit Trade Id: %{customdata[0]' ... 'r>Return: %{customdata[3]:.2%}'),\n",
       "              'legendgroup': '3',\n",
       "              'marker': {'color': '#37B13F',\n",
       "                         'line': {'color': 'rgb(38,123,44)', 'width': 1},\n",
       "                         'opacity': array([0.85391383, 0.85422781, 0.9       , 0.75      ]),\n",
       "                         'size': array([11.84931196, 11.86396439, 14.        ,  7.        ]),\n",
       "                         'symbol': 'circle'},\n",
       "              'mode': 'markers',\n",
       "              'name': 'Closed - Profit',\n",
       "              'type': 'scatter',\n",
       "              'uid': 'd11f125b-28a8-465f-90ff-97a9eda71bd6',\n",
       "              'x': array([datetime.datetime(2020, 9, 30, 0, 0),\n",
       "                          datetime.datetime(2022, 10, 21, 0, 0),\n",
       "                          datetime.datetime(2023, 1, 12, 0, 0),\n",
       "                          datetime.datetime(2023, 10, 6, 0, 0)], dtype=object),\n",
       "              'xaxis': 'x2',\n",
       "              'y': array([0.04561705, 0.04569936, 0.05769843, 0.0183763 ]),\n",
       "              'yaxis': 'y2'},\n",
       "             {'legendgroup': '4',\n",
       "              'line': {'color': '#7f7f7f'},\n",
       "              'name': 'Benchmark',\n",
       "              'showlegend': True,\n",
       "              'type': 'scatter',\n",
       "              'uid': '2edb6fbb-be49-44eb-a02d-db245d75a00e',\n",
       "              'x': array([datetime.datetime(2020, 1, 2, 0, 0),\n",
       "                          datetime.datetime(2020, 1, 3, 0, 0),\n",
       "                          datetime.datetime(2020, 1, 6, 0, 0), ...,\n",
       "                          datetime.datetime(2023, 12, 27, 0, 0),\n",
       "                          datetime.datetime(2023, 12, 28, 0, 0),\n",
       "                          datetime.datetime(2023, 12, 29, 0, 0)], dtype=object),\n",
       "              'xaxis': 'x3',\n",
       "              'y': array([1.        , 0.99019498, 1.00261611, ..., 2.14645796, 2.14929329,\n",
       "                          2.14190698]),\n",
       "              'yaxis': 'y3'},\n",
       "             {'hoverinfo': 'skip',\n",
       "              'legendgroup': '5',\n",
       "              'line': {'color': 'rgba(0, 0, 0, 0)', 'width': 0},\n",
       "              'opacity': 0,\n",
       "              'showlegend': False,\n",
       "              'type': 'scatter',\n",
       "              'uid': 'd4119281-3803-46e3-b051-52b5a9d5be1a',\n",
       "              'x': array([datetime.datetime(2020, 1, 2, 0, 0),\n",
       "                          datetime.datetime(2020, 1, 3, 0, 0),\n",
       "                          datetime.datetime(2020, 1, 6, 0, 0), ...,\n",
       "                          datetime.datetime(2023, 12, 27, 0, 0),\n",
       "                          datetime.datetime(2023, 12, 28, 0, 0),\n",
       "                          datetime.datetime(2023, 12, 29, 0, 0)], dtype=object),\n",
       "              'xaxis': 'x3',\n",
       "              'y': array([1, 1, 1, ..., 1, 1, 1]),\n",
       "              'yaxis': 'y3'},\n",
       "             {'connectgaps': False,\n",
       "              'fill': 'tonexty',\n",
       "              'fillcolor': 'rgba(0, 128, 0, 0.3)',\n",
       "              'hoverinfo': 'skip',\n",
       "              'legendgroup': '5',\n",
       "              'line': {'color': 'rgba(0, 0, 0, 0)', 'width': 0},\n",
       "              'opacity': 0,\n",
       "              'showlegend': False,\n",
       "              'type': 'scatter',\n",
       "              'uid': '20590154-0b9d-4ca5-906b-84838471575f',\n",
       "              'x': array([datetime.datetime(2020, 1, 2, 0, 0),\n",
       "                          datetime.datetime(2020, 1, 3, 0, 0),\n",
       "                          datetime.datetime(2020, 1, 6, 0, 0), ...,\n",
       "                          datetime.datetime(2023, 12, 27, 0, 0),\n",
       "                          datetime.datetime(2023, 12, 28, 0, 0),\n",
       "                          datetime.datetime(2023, 12, 29, 0, 0)], dtype=object),\n",
       "              'xaxis': 'x3',\n",
       "              'y': array([1.        , 1.        , 1.        , ..., 1.17774059, 1.17774059,\n",
       "                          1.17774059]),\n",
       "              'yaxis': 'y3'},\n",
       "             {'legendgroup': '6',\n",
       "              'line': {'color': '#9467bd'},\n",
       "              'name': 'Value',\n",
       "              'showlegend': True,\n",
       "              'type': 'scatter',\n",
       "              'uid': '7be23ac5-f043-4202-b637-fa4aa761e3a9',\n",
       "              'x': array([datetime.datetime(2020, 1, 2, 0, 0),\n",
       "                          datetime.datetime(2020, 1, 3, 0, 0),\n",
       "                          datetime.datetime(2020, 1, 6, 0, 0), ...,\n",
       "                          datetime.datetime(2023, 12, 27, 0, 0),\n",
       "                          datetime.datetime(2023, 12, 28, 0, 0),\n",
       "                          datetime.datetime(2023, 12, 29, 0, 0)], dtype=object),\n",
       "              'xaxis': 'x3',\n",
       "              'y': array([1.        , 1.        , 1.        , ..., 1.17774059, 1.17774059,\n",
       "                          1.17774059]),\n",
       "              'yaxis': 'y3'},\n",
       "             {'hoverinfo': 'skip',\n",
       "              'legendgroup': '5',\n",
       "              'line': {'color': 'rgba(0, 0, 0, 0)', 'width': 0},\n",
       "              'opacity': 0.0,\n",
       "              'showlegend': False,\n",
       "              'type': 'scatter',\n",
       "              'uid': '2a53ffe2-2196-444f-b550-f9af253925f7',\n",
       "              'x': array([datetime.datetime(2020, 1, 2, 0, 0),\n",
       "                          datetime.datetime(2020, 1, 3, 0, 0),\n",
       "                          datetime.datetime(2020, 1, 6, 0, 0), ...,\n",
       "                          datetime.datetime(2023, 12, 27, 0, 0),\n",
       "                          datetime.datetime(2023, 12, 28, 0, 0),\n",
       "                          datetime.datetime(2023, 12, 29, 0, 0)], dtype=object),\n",
       "              'xaxis': 'x3',\n",
       "              'y': array([1, 1, 1, ..., 1, 1, 1]),\n",
       "              'yaxis': 'y3'}],\n",
       "    'layout': {'annotations': [{'font': {'size': 16},\n",
       "                                'showarrow': False,\n",
       "                                'text': 'Orders',\n",
       "                                'x': 0.5,\n",
       "                                'xanchor': 'center',\n",
       "                                'xref': 'paper',\n",
       "                                'y': 1.0,\n",
       "                                'yanchor': 'bottom',\n",
       "                                'yref': 'paper'},\n",
       "                               {'font': {'size': 16},\n",
       "                                'showarrow': False,\n",
       "                                'text': 'Trade PnL',\n",
       "                                'x': 0.5,\n",
       "                                'xanchor': 'center',\n",
       "                                'xref': 'paper',\n",
       "                                'y': 0.6527777777777777,\n",
       "                                'yanchor': 'bottom',\n",
       "                                'yref': 'paper'},\n",
       "                               {'font': {'size': 16},\n",
       "                                'showarrow': False,\n",
       "                                'text': 'Cumulative Returns',\n",
       "                                'x': 0.5,\n",
       "                                'xanchor': 'center',\n",
       "                                'xref': 'paper',\n",
       "                                'y': 0.3055555555555555,\n",
       "                                'yanchor': 'bottom',\n",
       "                                'yref': 'paper'}],\n",
       "               'height': 960,\n",
       "               'legend': {'orientation': 'h',\n",
       "                          'traceorder': 'normal',\n",
       "                          'x': 1,\n",
       "                          'xanchor': 'right',\n",
       "                          'y': 1.0416666666666667,\n",
       "                          'yanchor': 'bottom'},\n",
       "               'margin': {'b': 30, 'l': 30, 'r': 30, 't': 30},\n",
       "               'shapes': [{'line': {'color': 'gray', 'dash': 'dash'},\n",
       "                           'type': 'line',\n",
       "                           'x0': 0.0,\n",
       "                           'x1': 1.0,\n",
       "                           'xref': 'paper',\n",
       "                           'y0': 0,\n",
       "                           'y1': 0,\n",
       "                           'yref': 'y2'},\n",
       "                          {'line': {'color': 'gray', 'dash': 'dash'},\n",
       "                           'type': 'line',\n",
       "                           'x0': 0.0,\n",
       "                           'x1': 1.0,\n",
       "                           'xref': 'paper',\n",
       "                           'y0': 1,\n",
       "                           'y1': 1,\n",
       "                           'yref': 'y3'}],\n",
       "               'showlegend': True,\n",
       "               'template': '...',\n",
       "               'title': {'text': 'Multi-Asset Portfolio Performance'},\n",
       "               'width': 750,\n",
       "               'xaxis': {'anchor': 'y', 'domain': [0.0, 1.0], 'matches': 'x3', 'showticklabels': False},\n",
       "               'xaxis2': {'anchor': 'y2', 'domain': [0.0, 1.0], 'matches': 'x3', 'showticklabels': False},\n",
       "               'xaxis3': {'anchor': 'y3', 'domain': [0.0, 1.0], 'title': {'text': 'Index'}},\n",
       "               'yaxis': {'anchor': 'x', 'domain': [0.6944444444444444, 1.0], 'title': {'text': 'Price'}},\n",
       "               'yaxis2': {'anchor': 'x2',\n",
       "                          'domain': [0.3472222222222222, 0.6527777777777777],\n",
       "                          'tickformat': '.2%',\n",
       "                          'title': {'text': 'Trade PnL'}},\n",
       "               'yaxis3': {'anchor': 'x3', 'domain': [0.0, 0.3055555555555555], 'title': {'text': 'Cumulative returns'}}}\n",
       "})"
      ]
     },
     "execution_count": 134,
     "metadata": {},
     "output_type": "execute_result"
    }
   ],
   "source": [
    "portfolio.plot(title='Multi-Asset Portfolio Performance',template='plotly_white',column=(14,'AAPL'),)"
   ]
  },
  {
   "cell_type": "code",
   "execution_count": 111,
   "id": "5246e879-5659-484f-8831-ed130d113e32",
   "metadata": {},
   "outputs": [
    {
     "data": {
      "application/vnd.jupyter.widget-view+json": {
       "model_id": "111d8e89835f4b799ba3970e659d2b46",
       "version_major": 2,
       "version_minor": 0
      },
      "text/plain": [
       "FigureWidget({\n",
       "    'data': [{'legendgroup': '0',\n",
       "              'line': {'color': '#9467bd'},\n",
       "              'name': 'Value',\n",
       "              'showlegend': True,\n",
       "              'type': 'scatter',\n",
       "              'uid': 'e9fd474a-2499-4cad-9a43-c46e4269b576',\n",
       "              'x': array([datetime.datetime(2020, 1, 2, 0, 0),\n",
       "                          datetime.datetime(2020, 1, 3, 0, 0),\n",
       "                          datetime.datetime(2020, 1, 6, 0, 0), ...,\n",
       "                          datetime.datetime(2023, 12, 27, 0, 0),\n",
       "                          datetime.datetime(2023, 12, 28, 0, 0),\n",
       "                          datetime.datetime(2023, 12, 29, 0, 0)], dtype=object),\n",
       "              'xaxis': 'x',\n",
       "              'y': array([10000.        , 10000.        , 10000.        , ..., 10305.26480244,\n",
       "                          10305.26480244, 10305.26480244]),\n",
       "              'yaxis': 'y'},\n",
       "             {'customdata': array([[0]]),\n",
       "              'hovertemplate': 'Drawdown Id: %{customdata[0]}<br>Peak Timestamp: %{x}<br>Peak Value: %{y}',\n",
       "              'legendgroup': '1',\n",
       "              'marker': {'color': '#4285F4',\n",
       "                         'line': {'color': 'rgb(11,84,205)', 'width': 1},\n",
       "                         'size': 7,\n",
       "                         'symbol': 'diamond'},\n",
       "              'mode': 'markers',\n",
       "              'name': 'Peak',\n",
       "              'type': 'scatter',\n",
       "              'uid': '7073c82a-845d-4360-80df-8e862503e63d',\n",
       "              'x': array([datetime.datetime(2022, 5, 23, 0, 0)], dtype=object),\n",
       "              'xaxis': 'x',\n",
       "              'y': array([10257.35125081]),\n",
       "              'yaxis': 'y'},\n",
       "             {'customdata': array([['0', '-0.025960136660447237', '1 days 00:00:00']], dtype=object),\n",
       "              'hovertemplate': ('Drawdown Id: %{customdata[0]}<' ... '<br>Duration: %{customdata[2]}'),\n",
       "              'legendgroup': '2',\n",
       "              'marker': {'color': '#EA4335',\n",
       "                         'line': {'color': 'rgb(181,31,18)', 'width': 1},\n",
       "                         'size': 7,\n",
       "                         'symbol': 'diamond'},\n",
       "              'mode': 'markers',\n",
       "              'name': 'Valley',\n",
       "              'type': 'scatter',\n",
       "              'uid': '3fbcc32c-f03e-4306-887a-7e2a60ea4600',\n",
       "              'x': array([datetime.datetime(2022, 5, 24, 0, 0)], dtype=object),\n",
       "              'xaxis': 'x',\n",
       "              'y': array([9991.06901057]),\n",
       "              'yaxis': 'y'},\n",
       "             {'customdata': array([['0', '0.031447665063979224', '2 days 00:00:00']], dtype=object),\n",
       "              'hovertemplate': ('Drawdown Id: %{customdata[0]}<' ... '<br>Duration: %{customdata[2]}'),\n",
       "              'legendgroup': '3',\n",
       "              'marker': {'color': '#37B13F',\n",
       "                         'line': {'color': 'rgb(38,123,44)', 'width': 1},\n",
       "                         'size': 7,\n",
       "                         'symbol': 'diamond'},\n",
       "              'mode': 'markers',\n",
       "              'name': 'Recovery/Peak',\n",
       "              'type': 'scatter',\n",
       "              'uid': 'd9512780-8e65-40ea-abd4-2f5e705411f4',\n",
       "              'x': array([datetime.datetime(2022, 5, 26, 0, 0)], dtype=object),\n",
       "              'xaxis': 'x',\n",
       "              'y': array([10305.26480244]),\n",
       "              'yaxis': 'y'},\n",
       "             {'fill': 'tozeroy',\n",
       "              'fillcolor': 'rgba(220,57,18,0.3000)',\n",
       "              'legendgroup': '4',\n",
       "              'line': {'color': '#dc3912'},\n",
       "              'name': 'Drawdown',\n",
       "              'showlegend': True,\n",
       "              'type': 'scatter',\n",
       "              'uid': '05449b64-dda4-48e2-baa4-57b84371ca81',\n",
       "              'x': array([datetime.datetime(2020, 1, 2, 0, 0),\n",
       "                          datetime.datetime(2020, 1, 3, 0, 0),\n",
       "                          datetime.datetime(2020, 1, 6, 0, 0), ...,\n",
       "                          datetime.datetime(2023, 12, 27, 0, 0),\n",
       "                          datetime.datetime(2023, 12, 28, 0, 0),\n",
       "                          datetime.datetime(2023, 12, 29, 0, 0)], dtype=object),\n",
       "              'xaxis': 'x2',\n",
       "              'y': array([0., 0., 0., ..., 0., 0., 0.]),\n",
       "              'yaxis': 'y2'}],\n",
       "    'layout': {'annotations': [{'font': {'size': 16},\n",
       "                                'showarrow': False,\n",
       "                                'text': 'Drawdowns',\n",
       "                                'x': 0.5,\n",
       "                                'xanchor': 'center',\n",
       "                                'xref': 'paper',\n",
       "                                'y': 1.0,\n",
       "                                'yanchor': 'bottom',\n",
       "                                'yref': 'paper'},\n",
       "                               {'font': {'size': 16},\n",
       "                                'showarrow': False,\n",
       "                                'text': 'Underwater',\n",
       "                                'x': 0.5,\n",
       "                                'xanchor': 'center',\n",
       "                                'xref': 'paper',\n",
       "                                'y': 0.4701492537313433,\n",
       "                                'yanchor': 'bottom',\n",
       "                                'yref': 'paper'}],\n",
       "               'height': 670,\n",
       "               'legend': {'orientation': 'h',\n",
       "                          'traceorder': 'normal',\n",
       "                          'x': 1,\n",
       "                          'xanchor': 'right',\n",
       "                          'y': 1.0597014925373134,\n",
       "                          'yanchor': 'bottom'},\n",
       "               'margin': {'b': 30, 'l': 30, 'r': 30, 't': 30},\n",
       "               'shapes': [{'fillcolor': 'red',\n",
       "                           'layer': 'below',\n",
       "                           'line': {'width': 0},\n",
       "                           'opacity': 0.2,\n",
       "                           'type': 'rect',\n",
       "                           'x0': Timestamp('2022-05-23 00:00:00'),\n",
       "                           'x1': Timestamp('2022-05-24 00:00:00'),\n",
       "                           'xref': 'x',\n",
       "                           'y0': 0.5298507462686567,\n",
       "                           'y1': 1.0,\n",
       "                           'yref': 'paper'},\n",
       "                          {'fillcolor': 'green',\n",
       "                           'layer': 'below',\n",
       "                           'line': {'width': 0},\n",
       "                           'opacity': 0.2,\n",
       "                           'type': 'rect',\n",
       "                           'x0': Timestamp('2022-05-24 00:00:00'),\n",
       "                           'x1': Timestamp('2022-05-26 00:00:00'),\n",
       "                           'xref': 'x',\n",
       "                           'y0': 0.5298507462686567,\n",
       "                           'y1': 1.0,\n",
       "                           'yref': 'paper'},\n",
       "                          {'line': {'color': 'gray', 'dash': 'dash'},\n",
       "                           'type': 'line',\n",
       "                           'x0': 0.0,\n",
       "                           'x1': 1.0,\n",
       "                           'xref': 'paper',\n",
       "                           'y0': 0,\n",
       "                           'y1': 0,\n",
       "                           'yref': 'y2'}],\n",
       "               'showlegend': True,\n",
       "               'template': '...',\n",
       "               'width': 750,\n",
       "               'xaxis': {'anchor': 'y', 'domain': [0.0, 1.0], 'matches': 'x2', 'showticklabels': False},\n",
       "               'xaxis2': {'anchor': 'y2', 'domain': [0.0, 1.0], 'title': {'text': 'Index'}},\n",
       "               'yaxis': {'anchor': 'x', 'domain': [0.5298507462686567, 1.0], 'title': {'text': 'Value'}},\n",
       "               'yaxis2': {'anchor': 'x2',\n",
       "                          'domain': [0.0, 0.4701492537313433],\n",
       "                          'tickformat': '%',\n",
       "                          'title': {'text': 'Drawdown'}}}\n",
       "})"
      ]
     },
     "execution_count": 111,
     "metadata": {},
     "output_type": "execute_result"
    }
   ],
   "source": [
    "portfolio.plot(subplots=['drawdowns', 'underwater'],column=(14,'AMZN'))"
   ]
  },
  {
   "cell_type": "code",
   "execution_count": 88,
   "id": "529aa875-2805-416e-a7df-3389ec125330",
   "metadata": {},
   "outputs": [
    {
     "data": {
      "text/html": [
       "<div>\n",
       "<style scoped>\n",
       "    .dataframe tbody tr th:only-of-type {\n",
       "        vertical-align: middle;\n",
       "    }\n",
       "\n",
       "    .dataframe tbody tr th {\n",
       "        vertical-align: top;\n",
       "    }\n",
       "\n",
       "    .dataframe thead th {\n",
       "        text-align: right;\n",
       "    }\n",
       "</style>\n",
       "<table border=\"1\" class=\"dataframe\">\n",
       "  <thead>\n",
       "    <tr style=\"text-align: right;\">\n",
       "      <th>Ticker</th>\n",
       "      <th>AAPL</th>\n",
       "      <th>AMZN</th>\n",
       "      <th>GOOG</th>\n",
       "      <th>MSFT</th>\n",
       "    </tr>\n",
       "    <tr>\n",
       "      <th>Date</th>\n",
       "      <th></th>\n",
       "      <th></th>\n",
       "      <th></th>\n",
       "      <th></th>\n",
       "    </tr>\n",
       "  </thead>\n",
       "  <tbody>\n",
       "    <tr>\n",
       "      <th>2020-01-02</th>\n",
       "      <td>100.000000</td>\n",
       "      <td>100.000000</td>\n",
       "      <td>100.000000</td>\n",
       "      <td>100.000000</td>\n",
       "    </tr>\n",
       "    <tr>\n",
       "      <th>2020-01-03</th>\n",
       "      <td>99.019498</td>\n",
       "      <td>99.019498</td>\n",
       "      <td>99.019498</td>\n",
       "      <td>99.019498</td>\n",
       "    </tr>\n",
       "    <tr>\n",
       "      <th>2020-01-06</th>\n",
       "      <td>100.261611</td>\n",
       "      <td>100.261611</td>\n",
       "      <td>100.261611</td>\n",
       "      <td>100.261611</td>\n",
       "    </tr>\n",
       "    <tr>\n",
       "      <th>2020-01-07</th>\n",
       "      <td>99.955080</td>\n",
       "      <td>99.955080</td>\n",
       "      <td>99.955080</td>\n",
       "      <td>99.955080</td>\n",
       "    </tr>\n",
       "    <tr>\n",
       "      <th>2020-01-08</th>\n",
       "      <td>100.749911</td>\n",
       "      <td>100.749911</td>\n",
       "      <td>100.749911</td>\n",
       "      <td>100.749911</td>\n",
       "    </tr>\n",
       "    <tr>\n",
       "      <th>...</th>\n",
       "      <td>...</td>\n",
       "      <td>...</td>\n",
       "      <td>...</td>\n",
       "      <td>...</td>\n",
       "    </tr>\n",
       "    <tr>\n",
       "      <th>2023-12-22</th>\n",
       "      <td>215.364129</td>\n",
       "      <td>215.364129</td>\n",
       "      <td>215.364129</td>\n",
       "      <td>215.364129</td>\n",
       "    </tr>\n",
       "    <tr>\n",
       "      <th>2023-12-26</th>\n",
       "      <td>215.227399</td>\n",
       "      <td>215.227399</td>\n",
       "      <td>215.227399</td>\n",
       "      <td>215.227399</td>\n",
       "    </tr>\n",
       "    <tr>\n",
       "      <th>2023-12-27</th>\n",
       "      <td>214.645796</td>\n",
       "      <td>214.645796</td>\n",
       "      <td>214.645796</td>\n",
       "      <td>214.645796</td>\n",
       "    </tr>\n",
       "    <tr>\n",
       "      <th>2023-12-28</th>\n",
       "      <td>214.929329</td>\n",
       "      <td>214.929329</td>\n",
       "      <td>214.929329</td>\n",
       "      <td>214.929329</td>\n",
       "    </tr>\n",
       "    <tr>\n",
       "      <th>2023-12-29</th>\n",
       "      <td>214.190698</td>\n",
       "      <td>214.190698</td>\n",
       "      <td>214.190698</td>\n",
       "      <td>214.190698</td>\n",
       "    </tr>\n",
       "  </tbody>\n",
       "</table>\n",
       "<p>1006 rows × 4 columns</p>\n",
       "</div>"
      ],
      "text/plain": [
       "Ticker            AAPL        AMZN        GOOG        MSFT\n",
       "Date                                                      \n",
       "2020-01-02  100.000000  100.000000  100.000000  100.000000\n",
       "2020-01-03   99.019498   99.019498   99.019498   99.019498\n",
       "2020-01-06  100.261611  100.261611  100.261611  100.261611\n",
       "2020-01-07   99.955080   99.955080   99.955080   99.955080\n",
       "2020-01-08  100.749911  100.749911  100.749911  100.749911\n",
       "...                ...         ...         ...         ...\n",
       "2023-12-22  215.364129  215.364129  215.364129  215.364129\n",
       "2023-12-26  215.227399  215.227399  215.227399  215.227399\n",
       "2023-12-27  214.645796  214.645796  214.645796  214.645796\n",
       "2023-12-28  214.929329  214.929329  214.929329  214.929329\n",
       "2023-12-29  214.190698  214.190698  214.190698  214.190698\n",
       "\n",
       "[1006 rows x 4 columns]"
      ]
     },
     "execution_count": 88,
     "metadata": {},
     "output_type": "execute_result"
    }
   ],
   "source": [
    "portfolio.close[14]"
   ]
  },
  {
   "cell_type": "code",
   "execution_count": 81,
   "id": "66d0fa64-63c3-4fd8-944e-3584f6bc2105",
   "metadata": {},
   "outputs": [
    {
     "data": {
      "text/html": [
       "<div>\n",
       "<style scoped>\n",
       "    .dataframe tbody tr th:only-of-type {\n",
       "        vertical-align: middle;\n",
       "    }\n",
       "\n",
       "    .dataframe tbody tr th {\n",
       "        vertical-align: top;\n",
       "    }\n",
       "\n",
       "    .dataframe thead th {\n",
       "        text-align: right;\n",
       "    }\n",
       "</style>\n",
       "<table border=\"1\" class=\"dataframe\">\n",
       "  <thead>\n",
       "    <tr style=\"text-align: right;\">\n",
       "      <th></th>\n",
       "      <th>Price</th>\n",
       "      <th>Adj Close</th>\n",
       "      <th>Close</th>\n",
       "      <th>High</th>\n",
       "      <th>Low</th>\n",
       "      <th>Open</th>\n",
       "      <th>Volume</th>\n",
       "    </tr>\n",
       "    <tr>\n",
       "      <th>Date</th>\n",
       "      <th>Ticker</th>\n",
       "      <th></th>\n",
       "      <th></th>\n",
       "      <th></th>\n",
       "      <th></th>\n",
       "      <th></th>\n",
       "      <th></th>\n",
       "    </tr>\n",
       "  </thead>\n",
       "  <tbody>\n",
       "    <tr>\n",
       "      <th rowspan=\"4\" valign=\"top\">2020-01-02</th>\n",
       "      <th>AAPL</th>\n",
       "      <td>72.796028</td>\n",
       "      <td>75.087502</td>\n",
       "      <td>75.150002</td>\n",
       "      <td>73.797501</td>\n",
       "      <td>74.059998</td>\n",
       "      <td>135480400</td>\n",
       "    </tr>\n",
       "    <tr>\n",
       "      <th>AMZN</th>\n",
       "      <td>94.900497</td>\n",
       "      <td>94.900497</td>\n",
       "      <td>94.900497</td>\n",
       "      <td>93.207497</td>\n",
       "      <td>93.750000</td>\n",
       "      <td>80580000</td>\n",
       "    </tr>\n",
       "    <tr>\n",
       "      <th>GOOG</th>\n",
       "      <td>68.123726</td>\n",
       "      <td>68.368500</td>\n",
       "      <td>68.406998</td>\n",
       "      <td>67.077499</td>\n",
       "      <td>67.077499</td>\n",
       "      <td>28132000</td>\n",
       "    </tr>\n",
       "    <tr>\n",
       "      <th>MSFT</th>\n",
       "      <td>153.938202</td>\n",
       "      <td>160.619995</td>\n",
       "      <td>160.729996</td>\n",
       "      <td>158.330002</td>\n",
       "      <td>158.779999</td>\n",
       "      <td>22622100</td>\n",
       "    </tr>\n",
       "    <tr>\n",
       "      <th>2020-01-03</th>\n",
       "      <th>AAPL</th>\n",
       "      <td>72.088287</td>\n",
       "      <td>74.357498</td>\n",
       "      <td>75.144997</td>\n",
       "      <td>74.125000</td>\n",
       "      <td>74.287498</td>\n",
       "      <td>146322800</td>\n",
       "    </tr>\n",
       "    <tr>\n",
       "      <th>...</th>\n",
       "      <th>...</th>\n",
       "      <td>...</td>\n",
       "      <td>...</td>\n",
       "      <td>...</td>\n",
       "      <td>...</td>\n",
       "      <td>...</td>\n",
       "      <td>...</td>\n",
       "    </tr>\n",
       "    <tr>\n",
       "      <th>2023-12-28</th>\n",
       "      <th>MSFT</th>\n",
       "      <td>373.240112</td>\n",
       "      <td>375.279999</td>\n",
       "      <td>376.459991</td>\n",
       "      <td>374.160004</td>\n",
       "      <td>375.369995</td>\n",
       "      <td>14327000</td>\n",
       "    </tr>\n",
       "    <tr>\n",
       "      <th rowspan=\"4\" valign=\"top\">2023-12-29</th>\n",
       "      <th>AAPL</th>\n",
       "      <td>191.591385</td>\n",
       "      <td>192.529999</td>\n",
       "      <td>194.399994</td>\n",
       "      <td>191.729996</td>\n",
       "      <td>193.899994</td>\n",
       "      <td>42628800</td>\n",
       "    </tr>\n",
       "    <tr>\n",
       "      <th>AMZN</th>\n",
       "      <td>151.940002</td>\n",
       "      <td>151.940002</td>\n",
       "      <td>153.889999</td>\n",
       "      <td>151.029999</td>\n",
       "      <td>153.100006</td>\n",
       "      <td>39789000</td>\n",
       "    </tr>\n",
       "    <tr>\n",
       "      <th>GOOG</th>\n",
       "      <td>140.425446</td>\n",
       "      <td>140.929993</td>\n",
       "      <td>141.434998</td>\n",
       "      <td>139.899994</td>\n",
       "      <td>140.679993</td>\n",
       "      <td>14872700</td>\n",
       "    </tr>\n",
       "    <tr>\n",
       "      <th>MSFT</th>\n",
       "      <td>373.996002</td>\n",
       "      <td>376.040009</td>\n",
       "      <td>377.160004</td>\n",
       "      <td>373.480011</td>\n",
       "      <td>376.000000</td>\n",
       "      <td>18723000</td>\n",
       "    </tr>\n",
       "  </tbody>\n",
       "</table>\n",
       "<p>4024 rows × 6 columns</p>\n",
       "</div>"
      ],
      "text/plain": [
       "Price               Adj Close       Close        High         Low        Open  \\\n",
       "Date       Ticker                                                               \n",
       "2020-01-02 AAPL     72.796028   75.087502   75.150002   73.797501   74.059998   \n",
       "           AMZN     94.900497   94.900497   94.900497   93.207497   93.750000   \n",
       "           GOOG     68.123726   68.368500   68.406998   67.077499   67.077499   \n",
       "           MSFT    153.938202  160.619995  160.729996  158.330002  158.779999   \n",
       "2020-01-03 AAPL     72.088287   74.357498   75.144997   74.125000   74.287498   \n",
       "...                       ...         ...         ...         ...         ...   \n",
       "2023-12-28 MSFT    373.240112  375.279999  376.459991  374.160004  375.369995   \n",
       "2023-12-29 AAPL    191.591385  192.529999  194.399994  191.729996  193.899994   \n",
       "           AMZN    151.940002  151.940002  153.889999  151.029999  153.100006   \n",
       "           GOOG    140.425446  140.929993  141.434998  139.899994  140.679993   \n",
       "           MSFT    373.996002  376.040009  377.160004  373.480011  376.000000   \n",
       "\n",
       "Price                 Volume  \n",
       "Date       Ticker             \n",
       "2020-01-02 AAPL    135480400  \n",
       "           AMZN     80580000  \n",
       "           GOOG     28132000  \n",
       "           MSFT     22622100  \n",
       "2020-01-03 AAPL    146322800  \n",
       "...                      ...  \n",
       "2023-12-28 MSFT     14327000  \n",
       "2023-12-29 AAPL     42628800  \n",
       "           AMZN     39789000  \n",
       "           GOOG     14872700  \n",
       "           MSFT     18723000  \n",
       "\n",
       "[4024 rows x 6 columns]"
      ]
     },
     "execution_count": 81,
     "metadata": {},
     "output_type": "execute_result"
    }
   ],
   "source": [
    "data"
   ]
  }
 ],
 "metadata": {
  "kernelspec": {
   "display_name": "alg",
   "language": "python",
   "name": "alg"
  },
  "language_info": {
   "codemirror_mode": {
    "name": "ipython",
    "version": 3
   },
   "file_extension": ".py",
   "mimetype": "text/x-python",
   "name": "python",
   "nbconvert_exporter": "python",
   "pygments_lexer": "ipython3",
   "version": "3.12.7"
  }
 },
 "nbformat": 4,
 "nbformat_minor": 5
}
